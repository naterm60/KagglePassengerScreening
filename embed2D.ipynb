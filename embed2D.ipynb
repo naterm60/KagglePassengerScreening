{
 "cells": [
  {
   "cell_type": "markdown",
   "metadata": {},
   "source": [
    "# <center>Preprocessing Code for the </center>\n",
    "# <center>Department of Homeland Security </center>\n",
    "# <center>Passenger Screening Algorithm Challenge.</center>"
   ]
  },
  {
   "cell_type": "markdown",
   "metadata": {},
   "source": [
    "# General imports and initializations"
   ]
  },
  {
   "cell_type": "code",
   "execution_count": null,
   "metadata": {
    "collapsed": false
   },
   "outputs": [],
   "source": [
    "import math\n",
    "import os\n",
    "import pdb\n",
    "import numpy as np\n",
    "import scipy as sp\n",
    "import matplotlib\n",
    "import matplotlib.pyplot as plt\n",
    "import datetime\n",
    "import csv\n",
    "\n",
    "from scipy import ndimage\n",
    "from scipy.signal import medfilt\n",
    "from scipy.signal import savgol_filter\n",
    "from scipy.signal import resample\n",
    "from scipy.ndimage.filters import gaussian_filter\n",
    "from scipy.ndimage.filters import median_filter\n",
    "from scipy.ndimage.morphology import binary_fill_holes\n",
    "from scipy.ndimage.morphology import binary_dilation\n",
    "from scipy.misc import imsave\n",
    "from scipy.ndimage import imread\n",
    "from copy import deepcopy\n",
    "from scipy import linalg\n",
    "from scipy.interpolate import interp1d\n",
    "from skimage.transform import resize\n",
    "from sklearn.preprocessing import binarize"
   ]
  },
  {
   "cell_type": "code",
   "execution_count": null,
   "metadata": {
    "collapsed": false
   },
   "outputs": [],
   "source": [
    "!pip3 install Cython\n",
    "%load_ext cython"
   ]
  },
  {
   "cell_type": "code",
   "execution_count": null,
   "metadata": {
    "collapsed": false
   },
   "outputs": [],
   "source": [
    "%matplotlib inline"
   ]
  },
  {
   "cell_type": "code",
   "execution_count": null,
   "metadata": {
    "collapsed": false
   },
   "outputs": [],
   "source": [
    "%pdb off"
   ]
  },
  {
   "cell_type": "code",
   "execution_count": null,
   "metadata": {
    "collapsed": false
   },
   "outputs": [],
   "source": [
    "plt.style.use('classic')"
   ]
  },
  {
   "cell_type": "markdown",
   "metadata": {},
   "source": [
    "# Project-specific imports and initializations"
   ]
  },
  {
   "cell_type": "code",
   "execution_count": null,
   "metadata": {
    "collapsed": false
   },
   "outputs": [],
   "source": [
    "# Get project functions\n",
    "from CompetitionFileIOFunctions import initRootFolders, initLog, log, filenames, loadFile"
   ]
  },
  {
   "cell_type": "code",
   "execution_count": null,
   "metadata": {
    "collapsed": false
   },
   "outputs": [],
   "source": [
    "# Init root folders\n",
    "inCloud = True\n",
    "if inCloud:\n",
    "    # Working in the cloud.\n",
    "    # Read scans from the bucket and save results locally:\n",
    "    initRootFolders(bucketName='kaggle_passenger_screening123407', localIOPath='')\n",
    "else:\n",
    "    # Working on a desktop\n",
    "    # Don't bother with the bucket, but set a constant local IO path to sidestep versioning\n",
    "    initRootFolders(\n",
    "        bucketName='', \n",
    "        localIOPath='/media/qwerty/science/science data/2017-10-18 Kaggle passenger screening/'\n",
    "    )\n",
    "\n",
    "# Name the input/output folders\n",
    "# cloud/ and local/ refer to locations defined in bucketName and localIOPath (above)\n",
    "scanDir1 = \"cloud/stage1_a3d/\"\n",
    "scanDir2 = \"cloud/stage2_a3d/\"\n",
    "embeddedDir1 = \"local/embedded2D/stage1/\"\n",
    "embeddedDir2 = \"local/embedded2D/stage2/\"\n",
    "logDir = \"local/log/\""
   ]
  },
  {
   "cell_type": "code",
   "execution_count": null,
   "metadata": {
    "collapsed": false
   },
   "outputs": [],
   "source": [
    "# Initialize log file\n",
    "initLog(logDir, 'embed')"
   ]
  },
  {
   "cell_type": "code",
   "execution_count": null,
   "metadata": {
    "collapsed": false
   },
   "outputs": [],
   "source": [
    "# Threshold for finding body region in 3D\n",
    "threshold3D = .0002"
   ]
  },
  {
   "cell_type": "markdown",
   "metadata": {},
   "source": [
    "# Read file data"
   ]
  },
  {
   "cell_type": "code",
   "execution_count": null,
   "metadata": {
    "collapsed": false
   },
   "outputs": [],
   "source": [
    "inputFiles = filenames(scanDir1)"
   ]
  },
  {
   "cell_type": "code",
   "execution_count": null,
   "metadata": {
    "collapsed": false
   },
   "outputs": [],
   "source": [
    "fileNum = 1\n",
    "inputFile = inputFiles[fileNum]"
   ]
  },
  {
   "cell_type": "code",
   "execution_count": null,
   "metadata": {
    "collapsed": false
   },
   "outputs": [],
   "source": [
    "####################################################\n",
    "log('+++++ Read file ' + str(fileNum) + ' +++++')\n",
    "####################################################\n",
    "# Note: title comments like the one above indicate \n",
    "# notebook cells that are copy/pasted to the main \n",
    "# processing loop at the bottom of the notebook.\n",
    "data = loadFile(inputFile)"
   ]
  },
  {
   "cell_type": "markdown",
   "metadata": {},
   "source": [
    "# Threshold"
   ]
  },
  {
   "cell_type": "code",
   "execution_count": null,
   "metadata": {
    "collapsed": false
   },
   "outputs": [],
   "source": [
    "####################################################\n",
    "log('Threshold')\n",
    "####################################################\n",
    "thresholded = np.clip(data, threshold3D, 100000) - threshold3D"
   ]
  },
  {
   "cell_type": "code",
   "execution_count": null,
   "metadata": {
    "collapsed": false
   },
   "outputs": [],
   "source": [
    "print('Total reflectivity: ', np.sum(thresholded))"
   ]
  },
  {
   "cell_type": "markdown",
   "metadata": {},
   "source": [
    "# Average along axii to get 2D mean images"
   ]
  },
  {
   "cell_type": "code",
   "execution_count": null,
   "metadata": {
    "collapsed": false
   },
   "outputs": [],
   "source": [
    "####################################################\n",
    "log('Average along axii to get 2D mean images')\n",
    "####################################################\n",
    "# Summed images will have yz, xz, xy axes, respectively\n",
    "means2D = list([thresholded.mean(axis=i) for i in range(3)])\n",
    "mean2DAxii = [('y', 'z'), ('x','z'), ('x','y')]"
   ]
  },
  {
   "cell_type": "code",
   "execution_count": null,
   "metadata": {
    "collapsed": false
   },
   "outputs": [],
   "source": [
    "fig, ax = plt.subplots(3, figsize=(30,30))\n",
    "for i in range(3):\n",
    "    ax[i].imshow(means2D[i], cmap = 'viridis', interpolation = 'nearest')"
   ]
  },
  {
   "cell_type": "markdown",
   "metadata": {},
   "source": [
    "# Get center of mass"
   ]
  },
  {
   "cell_type": "code",
   "execution_count": null,
   "metadata": {
    "collapsed": false
   },
   "outputs": [],
   "source": [
    "####################################################\n",
    "log('Get center of mass')\n",
    "####################################################\n",
    "# Could do this on the 3D image, but it's much faster on 2D images \n",
    "xCenter, zCenter = np.round(ndimage.measurements.center_of_mass(means2D[1])).astype(int)\n",
    "yCenter, dmy = np.round(ndimage.measurements.center_of_mass(means2D[0])).astype(int)"
   ]
  },
  {
   "cell_type": "code",
   "execution_count": null,
   "metadata": {
    "collapsed": false
   },
   "outputs": [],
   "source": [
    "print('xCenter:', xCenter, '    yCenter:', yCenter, '    zCenter:', zCenter)"
   ]
  },
  {
   "cell_type": "markdown",
   "metadata": {},
   "source": [
    "# Get end of trunk z-range (top of shoulders)"
   ]
  },
  {
   "cell_type": "code",
   "execution_count": null,
   "metadata": {
    "collapsed": false
   },
   "outputs": [],
   "source": [
    "def firstOn(dat, threshold=0.33):\n",
    "    filt = medfilt(dat, 11)\n",
    "    thresh = threshold * max(filt)\n",
    "    binarized = filt>thresh\n",
    "    first = np.argmax(binarized)\n",
    "    return first"
   ]
  },
  {
   "cell_type": "code",
   "execution_count": null,
   "metadata": {
    "collapsed": false
   },
   "outputs": [],
   "source": [
    "def firstOff(dat, threshold=0.33):\n",
    "    filt = medfilt(dat, 11)\n",
    "    thresh = threshold * max(filt)\n",
    "    binarized = filt<=thresh\n",
    "    first = np.argmax(binarized)\n",
    "    return first"
   ]
  },
  {
   "cell_type": "code",
   "execution_count": null,
   "metadata": {
    "collapsed": false
   },
   "outputs": [],
   "source": [
    "####################################################\n",
    "log('Get end of trunk z-range (top of shoulders)')\n",
    "####################################################\n",
    "zStart, zEnd = (int(zCenter * 1.2), int(zCenter * 1.7))\n",
    "if zEnd > data.shape[2]: zEnd = data.shape[2]\n",
    "\n",
    "xStart = int(xCenter - .25 * zCenter)\n",
    "xEnd = int(xCenter + .25 * zCenter)\n",
    "\n",
    "midStrip = means2D[1][xStart:xEnd, zStart:zEnd]\n",
    "\n",
    "off = midStrip < 0.00000001\n",
    "numOff = np.sum(off, axis=0)\n",
    "\n",
    "trunkEnd = firstOn(numOff, .15)\n",
    "trunkEnd += zStart"
   ]
  },
  {
   "cell_type": "code",
   "execution_count": null,
   "metadata": {
    "collapsed": false
   },
   "outputs": [],
   "source": [
    "fig, ax = plt.subplots(1, figsize=(3,3),facecolor='white')\n",
    "ax.imshow(off, cmap = 'viridis', interpolation = 'nearest')\n",
    "ax.set_xlabel('z')\n",
    "ax.set_ylabel('x')\n",
    "\n",
    "fig, ax = plt.subplots(1,facecolor='white')\n",
    "ax.plot(numOff)\n",
    "ax.set_xlabel('z')\n",
    "ax.set_ylabel('Number of empty pixels')\n",
    "\n",
    "print(trunkEnd)"
   ]
  },
  {
   "cell_type": "markdown",
   "metadata": {},
   "source": [
    "# Get start of trunk z-range (bottom of groin)"
   ]
  },
  {
   "cell_type": "code",
   "execution_count": null,
   "metadata": {
    "collapsed": false
   },
   "outputs": [],
   "source": [
    "####################################################\n",
    "log('Get start of trunk z-range (bottom of groin)')\n",
    "####################################################\n",
    "zStart = int(0.5 * zCenter)\n",
    "zStrip = np.mean(thresholded[:, yCenter:, zStart:zCenter], axis=0)\n",
    "zStrip = gaussian_filter(zStrip, (5,5))\n",
    "buttProfile = np.array([firstOff(x, .05) for x in np.transpose(zStrip)])\n",
    "buttProfile = median_filter(buttProfile, 5)\n",
    "buttProfileDer = savgol_filter(buttProfile, 11, 2, deriv=1, mode='nearest')\n",
    "trunkStart = zStart + np.argmax(buttProfileDer)"
   ]
  },
  {
   "cell_type": "code",
   "execution_count": null,
   "metadata": {
    "collapsed": false
   },
   "outputs": [],
   "source": [
    "fig, ax = plt.subplots(1, figsize=(5,5))\n",
    "ax.imshow(zStrip, cmap = 'viridis', interpolation = 'nearest')\n",
    "\n",
    "fig, ax = plt.subplots(1, figsize=(12,3.5), facecolor='white')\n",
    "ax.plot(buttProfile)\n",
    "ax.set_xlabel('z')\n",
    "ax.set_ylabel('Buttock profile')\n",
    "\n",
    "fig, ax = plt.subplots(1, figsize=(12,3.5), facecolor='white')\n",
    "ax.plot(buttProfileDer)\n",
    "ax.set_xlabel('z')\n",
    "ax.set_ylabel('Derivative of buttock profile w.r.t. z')\n",
    "\n",
    "print(trunkStart)"
   ]
  },
  {
   "cell_type": "markdown",
   "metadata": {},
   "source": [
    "# Erase head"
   ]
  },
  {
   "cell_type": "code",
   "execution_count": null,
   "metadata": {
    "collapsed": false,
    "hiddenCell": true
   },
   "outputs": [],
   "source": [
    "%%cython \n",
    "#--annotate\n",
    "cimport cython\n",
    "import math\n",
    "import numpy as np\n",
    "from cython.view cimport array as cvarray\n",
    "\n",
    "cdef extern from \"math.h\":\n",
    "    int floor(float x)\n",
    "    \n",
    "@cython.boundscheck(False) # turn off bounds-checking for entire function\n",
    "@cython.wraparound(False)  # turn off negative index wrapping for entire function\n",
    "@cython.cdivision(True)\n",
    "def eraseHead(float [:,:,:] arr, float centerX, float centerZ, float radiusX, float radiusZ):\n",
    "    \"\"\"Replace head region with zeros\"\"\"\n",
    "    \n",
    "    cdef int nx = arr.shape[0]\n",
    "    cdef int ny = arr.shape[1]\n",
    "    cdef int nz = arr.shape[2]\n",
    "    cdef int x, y, z\n",
    "\n",
    "    cdef float [:,:,:] out = np.array(arr, dtype=np.float32)\n",
    "\n",
    "    cdef float radiusX2 = radiusX**2\n",
    "    cdef float radiusZ2 = radiusZ**2\n",
    "    cdef float r\n",
    "\n",
    "    cdef int xStart = floor(centerX - radiusX)\n",
    "    cdef int xEnd = floor(centerX + radiusX)\n",
    "    cdef int zStart = floor(centerZ - radiusZ)\n",
    "    cdef int zEnd = floor(centerZ + radiusZ)\n",
    "\n",
    "    xStart = 0 if xStart<0 else xStart\n",
    "    xEnd = nx if xEnd>nx else xEnd\n",
    "\n",
    "    zStart = 0 if zStart<0 else zStart\n",
    "    zEnd = nz if zEnd>nz else zEnd\n",
    "\n",
    "    for x in range(xStart, xEnd):\n",
    "        \n",
    "        for z in range(zStart, zEnd):\n",
    "            \n",
    "            r = (x - centerX)**2 / radiusX2 + (z - centerZ)**2 / radiusZ2\n",
    "            \n",
    "            if r < 1:\n",
    "\n",
    "                out[x,:,z] = 0.\n",
    "\n",
    "    return np.array(out, dtype=np.float32)"
   ]
  },
  {
   "cell_type": "code",
   "execution_count": null,
   "metadata": {
    "collapsed": false
   },
   "outputs": [],
   "source": [
    "####################################################\n",
    "log('Erase head')\n",
    "####################################################\n",
    "# Head position, size\n",
    "headCenterZ = trunkEnd * 1.12\n",
    "headHeight = trunkEnd * .15\n",
    "headWidth = trunkEnd * .13\n",
    "\n",
    "# Get center X for head, which may be shifted relative to body\n",
    "headStripStartZ = math.floor(trunkEnd * 1.05)\n",
    "headStripEndZ = math.floor(trunkEnd * 1.1)\n",
    "headStripStartX = math.floor(xCenter - trunkEnd*.18)\n",
    "headStripEndX = math.floor(xCenter + trunkEnd*.18)\n",
    "headStripMean = np.mean(thresholded[headStripStartX:headStripEndX, :, headStripStartZ:headStripEndZ], axis=(1,2))\n",
    "middle = math.floor(len(headStripMean)/2)\n",
    "rightMost = firstOff(headStripMean[middle:0:-1], .05)\n",
    "leftMost = firstOff(headStripMean[middle:-1], .05)\n",
    "headOffsetX = math.floor((leftMost-rightMost)/2)\n",
    "\n",
    "# Erase head by deleting cylindrical region\n",
    "thresholded = eraseHead(thresholded, xCenter + headOffsetX, headCenterZ, headWidth, headHeight)\n",
    "data = eraseHead(data, xCenter + headOffsetX, headCenterZ, headWidth, headHeight)\n",
    "\n",
    "# Recalculate averages along axii\n",
    "means2D = list([thresholded.mean(axis=i) for i in range(3)])\n",
    "mean2DAxii = [('y', 'z'), ('x','z'), ('x','y')]"
   ]
  },
  {
   "cell_type": "code",
   "execution_count": null,
   "metadata": {
    "collapsed": false
   },
   "outputs": [],
   "source": [
    "print(headStripStartZ, headStripEndZ, headStripStartX, headStripEndX)\n",
    "\n",
    "plt.plot(headStripMean)\n",
    "\n",
    "fig, ax = plt.subplots(1, figsize=(30,30))\n",
    "ax.imshow(np.mean(thresholded, axis=1), cmap = 'viridis', interpolation = 'nearest')"
   ]
  },
  {
   "cell_type": "markdown",
   "metadata": {},
   "source": [
    "# Get waffle stacks"
   ]
  },
  {
   "cell_type": "code",
   "execution_count": null,
   "metadata": {
    "collapsed": false,
    "hiddenCell": true
   },
   "outputs": [],
   "source": [
    "%%cython \n",
    "#--annotate\n",
    "cimport cython\n",
    "import math\n",
    "import numpy as np\n",
    "from cython.view cimport array as cvarray\n",
    "\n",
    "cdef extern from \"math.h\":\n",
    "    int floor(float x)\n",
    "    \n",
    "@cython.boundscheck(False) # turn off bounds-checking for entire function\n",
    "@cython.wraparound(False)  # turn off negative index wrapping for entire function\n",
    "@cython.cdivision(True)\n",
    "\n",
    "def rotateArray(\n",
    "    float [:,:,:] arrayXYZ, \n",
    "    int [:] xRange, \n",
    "    int [:] yRange, \n",
    "    int [:] zRange,\n",
    "    float [:] origin, \n",
    "    float [:,:] basis, \n",
    "    int radius,\n",
    "    int length,\n",
    "    float threshold):\n",
    "  \n",
    "    \"\"\"\n",
    "    Given a volumetric scan, rotates it so that the given basis becomes the standard basis.\n",
    "    \n",
    "    Input:\n",
    "      arrayXYZ:  The volumetric scan to be rotated\n",
    "      xRange, yRange, zRange: The ranges of the input array to be copied\n",
    "      origin: The origin for the rotation\n",
    "      basis: An orthogonal basis for the rotation.  Row vectors become standard basis axii after the rotation.\n",
    "      radius: The output array's height, width and depth will be 2*radius+1\n",
    "      length: Voxels will be skipped if their projection on the last basis vector is greater then this\n",
    "      threshold: Voxels will be skipped if they are less than this value.\n",
    "      \n",
    "    Output:\n",
    "      Rotated array\n",
    "    \"\"\"\n",
    "    \n",
    "    cdef float [:,:,:,:] out = np.zeros(shape=(radius*2, radius*2, length, 2), dtype=np.float32)\n",
    "\n",
    "    cdef int xStart = min(xRange)\n",
    "    cdef int xEnd = max(xRange)\n",
    "    cdef int yStart = min(yRange)\n",
    "    cdef int yEnd = max(yRange)\n",
    "    cdef int zStart = min(zRange)\n",
    "    cdef int zEnd = max(zRange)\n",
    "\n",
    "    if zEnd > arrayXYZ.shape[2]: zEnd = arrayXYZ.shape[2]\n",
    "      \n",
    "    # Basis matrix:  rows (u,v,w), columns (x,y,z)\n",
    "    # It's stored as a bunch of floats to maximize the chance they'll end up in CPU registers\n",
    "    # I'm avoiding Numpy since vectorization won't help much with tiny matrices and vectors\n",
    "    cdef float bux = basis[0,0]\n",
    "    cdef float buy = basis[0,1]\n",
    "    cdef float buz = basis[0,2]\n",
    "    cdef float bvx = basis[1,0]\n",
    "    cdef float bvy = basis[1,1]\n",
    "    cdef float bvz = basis[1,2]\n",
    "    cdef float bwx = basis[2,0]\n",
    "    cdef float bwy = basis[2,1]\n",
    "    cdef float bwz = basis[2,2]\n",
    "\n",
    "    # xyMask is used to skip vertical slices that are empty (I.e. below threshold)\n",
    "    cdef float [:,:] xyMask = np.mean(arrayXYZ, axis=2)\n",
    "    cdef float xyThreshold = threshold / 100\n",
    "    \n",
    "    cdef int x,y,z,ou,ov,ow\n",
    "    cdef float val, ox, oy, oz, norm\n",
    "    \n",
    "    # Loop over voxels, accumulate 2D embedding\n",
    "    for x in range(xStart, xEnd):\n",
    "        for y in range(yStart, yEnd):\n",
    "            \n",
    "            # Skip empty z-slices\n",
    "            if xyMask[x,y] < xyThreshold: continue\n",
    "                \n",
    "            for z in range(zStart, zEnd):\n",
    "                \n",
    "                # Skip empty voxels\n",
    "                val = arrayXYZ[x,y,z]\n",
    "                if val < threshold: continue\n",
    "                    \n",
    "                ox, oy, oz = (x-origin[0], y-origin[1], z-origin[2])\n",
    "                 \n",
    "                # Transform (ox,oy,oz) to uvw basis\n",
    "                ou, ov, ow = (\n",
    "                    floor(bux*ox + buy*oy + buz*oz) + radius,\n",
    "                    floor(bvx*ox + bvy*oy + bvz*oz) + radius,\n",
    "                    floor(bwx*ox + bwy*oy + bwz*oz))\n",
    "\n",
    "                if ou>=0 and ou<radius*2 and ov>=0 and ov<radius*2 and ow>=0 and ow<length:\n",
    "                    out[ou,ov,ow,0] += 1\n",
    "                    out[ou,ov,ow,1] += val\n",
    "\n",
    "    # Normalize by number of voxels\n",
    "    for ou in range(0, 2* radius):\n",
    "        for ov in range(0, 2* radius):\n",
    "            for ow in range(0, length):\n",
    "                norm = out[ou, ov, ow, 0]\n",
    "                if norm > .00000001:\n",
    "                    out[ou, ov, ow, 1] /= norm\n",
    "\n",
    "    return np.array(out[:,:,:,1], dtype=np.float32)"
   ]
  },
  {
   "cell_type": "code",
   "execution_count": null,
   "metadata": {
    "collapsed": false,
    "hiddenCell": true
   },
   "outputs": [],
   "source": [
    "def getCenterAndRadius(xIn, thresholdIn):\n",
    "    \"\"\"\n",
    "    Finds the left and right edge of an object in xIn.\n",
    "    Returns the center and radius.\n",
    "    \"\"\"\n",
    "    \n",
    "    x = medfilt(xIn, 11)\n",
    "    threshold = np.max(x)*thresholdIn\n",
    "    binarized = x>threshold\n",
    "    first = np.argmax(binarized)\n",
    "    last = len(x) - np.argmax(np.flipud(binarized))\n",
    "    \n",
    "    return (math.floor((first+last)/2), (last-first)/2)"
   ]
  },
  {
   "cell_type": "code",
   "execution_count": null,
   "metadata": {
    "collapsed": false,
    "hiddenCell": true
   },
   "outputs": [],
   "source": [
    "def makeWaffles(arrayXYZ, xRange, yRange, zRange, startIn, endIn, basis, radius, threshold, filterWidth):\n",
    "    \"\"\"\n",
    "    Given a volumetric scan arrayXYZ that contains a tube-like surface (a leg, for instance),\n",
    "    this function finds a stack of ellipses that approximates the surface.\n",
    "    \n",
    "    Input:\n",
    "      xRange, yRange, zRange: Voxels outside these ranges are ignored\n",
    "      startIn: A pre-estimate of the center of the first ellipse\n",
    "      endIn: A pre-estimate of the center of the last ellipse\n",
    "      basis: An orthogonal basis for the cylindrical coordinate transformation.  \n",
    "          The last row vector corresponds to the axial coordinate.\n",
    "          The first two row vectors define the plane for the ellipses.\n",
    "          The ellipse axii will be aligned to the first two row vectors (not rotated in the plane).\n",
    "      radius: radius for the array rotation, if required\n",
    "      threshold: threshold for the array rotation, if required\n",
    "      filterWidth: Used when filtering the lists of ellipse centers and axii lengths\n",
    "      \n",
    "    Output:\n",
    "      A \"waffle stack\":  a dictionary containing a starting point, basis, ellipse parameters, etc.\n",
    "    \"\"\"\n",
    "  \n",
    "    if type(startIn)==type(0):\n",
    "        # The start and end positions are z positions.\n",
    "        # Get x and y positions\n",
    "        # This should only be done when the basis is the standard basis \n",
    "        # and waffles are stacked along z.\n",
    "        zSlice = arrayXYZ[xRange[0]:xRange[1], yRange[0]:yRange[1], startIn]\n",
    "        startX, dmy = getCenterAndRadius(np.mean(zSlice, axis=1), 0.1)\n",
    "        startY, dmy = getCenterAndRadius(np.mean(zSlice, axis=0), 0.1)\n",
    "        start = np.array([startX+xRange[0], startY+yRange[0], startIn], dtype=np.int32)\n",
    "\n",
    "        zSlice = arrayXYZ[xRange[0]:xRange[1], yRange[0]:yRange[1], endIn]\n",
    "        endX, dmy = getCenterAndRadius(np.mean(zSlice, axis=1), 0.1)\n",
    "        endY, dmy = getCenterAndRadius(np.mean(zSlice, axis=0), 0.1)\n",
    "        end = np.array([endX+xRange[0], endY+yRange[0], endIn], dtype=np.int32)\n",
    "        \n",
    "        length = endIn - startIn\n",
    "        \n",
    "    else:\n",
    "        # We already have x,y,z coordinates for start and end positions. \n",
    "        start, end = (startIn, endIn)\n",
    "        length = int(math.floor(np.linalg.norm(end-start)))\n",
    "        \n",
    "    # Rotate scane into specified UVW basis\n",
    "    arrayUVW = rotateArray(\n",
    "        arrayXYZ, \n",
    "        np.array(xRange, dtype=np.int32), \n",
    "        np.array(yRange, dtype=np.int32), \n",
    "        np.array(zRange, dtype=np.int32), \n",
    "        np.array(start, dtype=np.float32), \n",
    "        np.array(basis, dtype=np.float32), \n",
    "        radius, length, threshold\n",
    "    )\n",
    "    #return arrayUVW\n",
    "\n",
    "    # Initialize waffle offsets and widths\n",
    "    uOffsets = np.empty(length, np.float64)\n",
    "    uWidths = uOffsets.copy()\n",
    "    vOffsets = uOffsets.copy()\n",
    "    vWidths = uOffsets.copy()\n",
    "\n",
    "    # Get waffle widths and offsets from center\n",
    "    for i in range(0, length):\n",
    "        zSlice = arrayUVW[:,:,i]\n",
    "        uOffsets[i], uWidths[i] = getCenterAndRadius(zSlice.mean(axis=1), 0.05)\n",
    "        vOffsets[i], vWidths[i] = getCenterAndRadius(zSlice.mean(axis=0), 0.05)\n",
    "    uOffsets -= radius\n",
    "    vOffsets -= radius\n",
    "    #plt.plot(uOffsets)\n",
    "    \n",
    "    # Reduce impulse noise\n",
    "    uOffsets = medfilt(uOffsets, 5)\n",
    "    uWidths = medfilt(uWidths, 5)\n",
    "    vOffsets = medfilt(vOffsets, 5)\n",
    "    vWidths = medfilt(vWidths, 5)\n",
    "\n",
    "    # Smooth\n",
    "    filtLength = math.floor(length * filterWidth/2)*2+1\n",
    "    filtLength = filtLength if filtLength>=5 else 5\n",
    "    uOffsets = savgol_filter(uOffsets, filtLength, 1)\n",
    "    uWidths = savgol_filter(uWidths, filtLength, 1)\n",
    "    vOffsets = savgol_filter(vOffsets, filtLength, 1)\n",
    "    vWidths = savgol_filter(vWidths, filtLength, 1)\n",
    "\n",
    "    # Return waffle stack\n",
    "    return {\n",
    "        \"rangeXYZ\": np.array([xRange, yRange, zRange], dtype=np.int32),\n",
    "        \"basis\": np.array(basis, dtype=np.float32),\n",
    "        \"start\": np.array(start, dtype=np.float32),\n",
    "        \"uOffsets\": np.array(uOffsets, dtype=np.float32),\n",
    "        \"uWidths\": np.array(uWidths, dtype=np.float32),\n",
    "        \"vOffsets\": np.array(vOffsets, dtype=np.float32),\n",
    "        \"vWidths\": np.array(vWidths, dtype=np.float32),\n",
    "        \"butter\": 'LandOfLakes',\n",
    "        \"syrup\": 'Maple'\n",
    "    }"
   ]
  },
  {
   "cell_type": "markdown",
   "metadata": {},
   "source": [
    "# Get leg and trunk waffle stacks"
   ]
  },
  {
   "cell_type": "code",
   "execution_count": null,
   "metadata": {
    "collapsed": false
   },
   "outputs": [],
   "source": [
    "####################################################\n",
    "log('Get leg and trunk waffle stacks')\n",
    "####################################################\n",
    "\n",
    "# Right leg\n",
    "end = int(1.27 * trunkStart)\n",
    "rightLeg = makeWaffles(\n",
    "    thresholded, \n",
    "    (0, xCenter), \n",
    "    (0, thresholded.shape[1]), \n",
    "    (0, end), \n",
    "    0, end, np.eye(3), 200, 0.00001, .16\n",
    ")\n",
    "\n",
    "# Left leg\n",
    "end = int(1.27 * trunkStart)\n",
    "leftLeg = makeWaffles(\n",
    "    thresholded, \n",
    "    (xCenter, thresholded.shape[0]), \n",
    "    (0, thresholded.shape[1]), \n",
    "    (0, end), \n",
    "    0, end, np.eye(3), 200, 0.00001, .16\n",
    ")\n",
    "\n",
    "# Trunk\n",
    "start = int(.95 * trunkStart)\n",
    "end = int(trunkEnd)\n",
    "trunk = makeWaffles(\n",
    "    thresholded, \n",
    "    (0, thresholded.shape[0]), \n",
    "    (0, thresholded.shape[1]), \n",
    "    (start, end), \n",
    "    start, end, np.eye(3), 250, 0.00001, .16\n",
    ")"
   ]
  },
  {
   "cell_type": "markdown",
   "metadata": {},
   "source": [
    "# Get arm waffles"
   ]
  },
  {
   "cell_type": "markdown",
   "metadata": {},
   "source": [
    "The following function is a dirty kitchen sink.  There's also a problem with the elbows:  the way they're done now, waffles near an elbow are 90 degrees from the direction they should be.  The ugly code and bad elbow embedding could be fixed by implementing curvy waffle stacks (waffles not parallel).  This would require changing all the 2D embedding code - about 1 week of work.  Elbow embedding would improve and the following function could be much cleaner."
   ]
  },
  {
   "cell_type": "code",
   "execution_count": null,
   "metadata": {
    "collapsed": false,
    "hiddenCell": true
   },
   "outputs": [],
   "source": [
    "def getArmJointCoordinates(thresholdedIn, means2DIn, xCenter, armpitZ, leftSide):\n",
    "\n",
    "    ####################################    \n",
    "    # Get data for left or right side \n",
    "    ####################################\n",
    "    if leftSide:\n",
    "        thresholded = np.flipud(thresholdedIn[xCenter:-1]) \n",
    "        xzSlice = np.flipud(means2DIn[1][xCenter:-1,armpitZ:thresholded.shape[2]])\n",
    "    else:\n",
    "        thresholded = thresholdedIn[0:xCenter]\n",
    "        xzSlice = means2D[1][0:xCenter,armpitZ:thresholded.shape[2]]\n",
    "\n",
    "    ####################################\n",
    "    # Get fingertip height\n",
    "    ####################################\n",
    "    zStrip = np.mean(xzSlice, axis=0)\n",
    "    fingertipZ = int(firstOn(np.flipud(zStrip), .05))\n",
    "    fingertipZ = thresholded.shape[2] - fingertipZ - 1\n",
    "    \n",
    "    ####################################\n",
    "    # Get arm waffles\n",
    "    ####################################\n",
    "    arm = makeWaffles(\n",
    "        thresholded, \n",
    "        (0, thresholded.shape[0]), (0, thresholded.shape[1]), (armpitZ, fingertipZ),\n",
    "        armpitZ, fingertipZ, np.eye(3), 200, .00001, .1\n",
    "    )\n",
    "    \n",
    "    ####################################\n",
    "    # Get shoulder position\n",
    "    ####################################\n",
    "    shoulderPos = arm[\"start\"]\n",
    "    shoulderPos[0] -= armpitZ * .05\n",
    "    \n",
    "    ####################################\n",
    "    # Estimate elbow position\n",
    "    ####################################\n",
    "    armLength = len(arm[\"uOffsets\"])\n",
    "    elbowZ = math.floor(0.4 * armLength)\n",
    "\n",
    "    # Get second derivative\n",
    "    filterWidth = math.floor(0.15 * armLength)\n",
    "    d2x = gaussian_filter(arm[\"uOffsets\"], (filterWidth), order=2, mode=\"nearest\")\n",
    "\n",
    "    # Improve estimate of elbow height if arm is bent\n",
    "    if d2x[elbowZ] > .01:\n",
    "        elbowIndicator = -arm[\"uOffsets\"] + 25*70*d2x\n",
    "        middleThird = [math.floor(armLength/3), math.floor(armLength*2/3)]\n",
    "        elbowZ = np.argmax(elbowIndicator[middleThird[0]:middleThird[1]])\n",
    "        elbowZ = elbowZ + middleThird[0]\n",
    "\n",
    "    # Get full-scan coordinates\n",
    "    elbowX = math.floor(arm['start'][0] + arm['uOffsets'][elbowZ])\n",
    "    elbowY = math.floor(arm['start'][1] + arm['vOffsets'][elbowZ])\n",
    "    elbowZ += armpitZ\n",
    "    elbowPos = np.array([elbowX, elbowY, elbowZ])\n",
    "    \n",
    "    ####################################\n",
    "    # Estimate wrist position\n",
    "    ####################################    \n",
    "    numBins = 50\n",
    "    wristAt = 0.55\n",
    "    wristDel = 0.1\n",
    "\n",
    "    # Get full-scan XYZ coordinates of voxels in the forearm region\n",
    "    forearmImg = thresholded[:, :,elbowZ:fingertipZ]\n",
    "    forearmCoords = np.argwhere(forearmImg>0.00000001).astype(np.float32)\n",
    "    forearmCoords[:,2] += elbowZ\n",
    "\n",
    "    # Get vector from elbow to forearm center of mass\n",
    "    forearmCoM = np.mean(forearmCoords, axis=0)\n",
    "    forearmDirection = forearmCoM - elbowPos\n",
    "    forearmLength = np.linalg.norm(forearmDirection)\n",
    "    forearmDirection /= forearmLength\n",
    "    \n",
    "    # Project forearm coordinates on forearm vector\n",
    "    forearmCoords -= elbowPos\n",
    "    forearmW = np.dot(forearmCoords, forearmDirection)\n",
    "    forearmR = np.linalg.norm(forearmCoords - np.outer(forearmW, forearmDirection), axis=1)\n",
    "\n",
    "    # Build trajectory in wr space\n",
    "    orderW = np.argsort(forearmW)\n",
    "    trajectory = np.zeros(shape=(numBins,2), dtype=np.float32)\n",
    "    mass = np.zeros(shape=numBins, dtype=np.float32)\n",
    "    binNumberFromW = numBins / (3 * forearmLength)\n",
    "    \n",
    "    for i in range(len(orderW)):\n",
    "        w = forearmW[orderW[i]]\n",
    "        r = forearmR[orderW[i]]\n",
    "        binIdx = math.floor(w * binNumberFromW)\n",
    "        if binIdx > numBins-1 or binIdx < 0:  continue\n",
    "        mass[binIdx] += 1\n",
    "        trajectory[binIdx] += [w,r]\n",
    "    \n",
    "    # Normalize by mass and delete bins without mass\n",
    "    endBin = -1\n",
    "    gotOne = False\n",
    "    for i in range(numBins):\n",
    "        if mass[i] > 0.00000001:\n",
    "            trajectory[i] /= mass[i]\n",
    "            gotOne = True\n",
    "        elif gotOne: \n",
    "            endBin = i\n",
    "            break\n",
    "    trajectory = trajectory[0:endBin]\n",
    "    mass = mass[0:endBin]\n",
    "\n",
    "    # Get length of trajectory \n",
    "    trajectoryDels = np.linalg.norm(trajectory[1:-1] - trajectory[0:-2], axis=1)\n",
    "    trajectoryLength = sum(trajectoryDels)\n",
    "\n",
    "    # Get middle of trajectory\n",
    "    wristPos = trajectoryLength * wristAt\n",
    "    trajectoryAccum = 0\n",
    "    for i in range(len(trajectory)):\n",
    "        trajectoryAccum += trajectoryDels[i]\n",
    "        if trajectoryAccum > wristPos:\n",
    "            wristPos = i\n",
    "            break\n",
    "    wristW = trajectory[wristPos, 0]\n",
    "\n",
    "    # Get mean XYZ position of voxels near wrist\n",
    "    startW = wristW - wristDel * forearmLength\n",
    "    endW = wristW + wristDel * forearmLength\n",
    "    wristPos = np.array([0,0,0], dtype=np.float32)\n",
    "    wristMass = 0\n",
    "    for i in range(len(forearmCoords)):\n",
    "        if forearmW[i] > startW and forearmW[i] < endW:\n",
    "            wristPos += forearmCoords[i]\n",
    "            wristMass += 1\n",
    "    wristPos /= wristMass\n",
    "    wristPos += elbowPos\n",
    "\n",
    "    ####################################\n",
    "    # Return results\n",
    "    ####################################\n",
    "\n",
    "    # Flip x-coordinate\n",
    "    if leftSide:\n",
    "        shoulderPos[0] = thresholdedIn.shape[0] - shoulderPos[0]\n",
    "        elbowPos[0] = thresholdedIn.shape[0] - elbowPos[0]\n",
    "        wristPos[0] = thresholdedIn.shape[0] - wristPos[0]\n",
    "\n",
    "    return (shoulderPos, elbowPos, wristPos, fingertipZ)"
   ]
  },
  {
   "cell_type": "code",
   "execution_count": null,
   "metadata": {
    "collapsed": false
   },
   "outputs": [],
   "source": [
    "def getArmSegmentBasis(start, end):\n",
    "    w = end - start\n",
    "    length = np.linalg.norm(w)\n",
    "    w /= length\n",
    "\n",
    "    u = np.cross(w, [0,0,1])\n",
    "    u /= np.linalg.norm(u)\n",
    "\n",
    "    v = np.cross(u, w)\n",
    "    v /= np.linalg.norm(v)\n",
    "    \n",
    "    return np.array([u,v,w], dtype=np.float32)"
   ]
  },
  {
   "cell_type": "code",
   "execution_count": null,
   "metadata": {
    "collapsed": false
   },
   "outputs": [],
   "source": [
    "####################################################\n",
    "log('Get arm waffle stacks')\n",
    "####################################################\n",
    "\n",
    "# Guess armpit height\n",
    "armpitZ = int(trunkStart + 0.9 * (trunkEnd - trunkStart))\n",
    "\n",
    "# Right arm\n",
    "shoulderPos, elbowPos, wristPos, fingertipZ = getArmJointCoordinates(thresholded, means2D, xCenter, armpitZ, False)\n",
    "\n",
    "# Right bicep\n",
    "rightBicep = makeWaffles(\n",
    "    thresholded,\n",
    "    (0, xCenter), (0, thresholded.shape[1]), (math.floor(shoulderPos[2]*.9), elbowPos[2]+20),\n",
    "    shoulderPos, elbowPos, getArmSegmentBasis(shoulderPos, elbowPos), 80, 0.00001, .7\n",
    ")\n",
    "\n",
    "# Right forearm\n",
    "rightForearm = makeWaffles(\n",
    "    thresholded,\n",
    "    (0, xCenter), (0, thresholded.shape[1]), (elbowPos[2]-20, wristPos[2]+20),\n",
    "    elbowPos, wristPos, getArmSegmentBasis(elbowPos, wristPos), 60, 0.00001, .9\n",
    ")\n",
    "\n",
    "# Left arm\n",
    "shoulderPos, elbowPos, wristPos, fingertipZ = getArmJointCoordinates(thresholded, means2D, xCenter, armpitZ, True)\n",
    "\n",
    "# Left bicep\n",
    "leftBicep = makeWaffles(\n",
    "    thresholded,\n",
    "    (xCenter, thresholded.shape[0]), (0, thresholded.shape[1]), (math.floor(shoulderPos[2]*.9), elbowPos[2]+20),\n",
    "    shoulderPos, elbowPos, getArmSegmentBasis(shoulderPos, elbowPos), 80, 0.00001, .7\n",
    ")\n",
    "\n",
    "# Left forearm\n",
    "leftForearm = makeWaffles(\n",
    "    thresholded,\n",
    "    (xCenter, thresholded.shape[0]), (0, thresholded.shape[1]), (elbowPos[2]-20, wristPos[2]+20),\n",
    "    elbowPos, wristPos, getArmSegmentBasis(elbowPos, wristPos), 60, 0.00001, .9\n",
    ")"
   ]
  },
  {
   "cell_type": "markdown",
   "metadata": {},
   "source": [
    "# Plot segment waffle stacks"
   ]
  },
  {
   "cell_type": "markdown",
   "metadata": {},
   "source": [
    "This does not go in the main processing loop.  It's only used here, in the notebook, for debugging and development."
   ]
  },
  {
   "cell_type": "code",
   "execution_count": null,
   "metadata": {
    "collapsed": false
   },
   "outputs": [],
   "source": [
    "def drawSegment(array, segment):\n",
    "    length = len(segment[\"uOffsets\"])\n",
    "    start = segment[\"start\"]\n",
    "    basis = segment[\"basis\"]\n",
    "    out = np.array(array)\n",
    "    pos = []\n",
    "    wNorm = np.linalg.norm(basis[2])\n",
    "    \n",
    "    for w in range(length):\n",
    "\n",
    "        uo = segment[\"uOffsets\"][w]\n",
    "        uw = segment[\"uWidths\"][w]\n",
    "        vo = segment[\"vOffsets\"][w]\n",
    "        vw = segment[\"vWidths\"][w]\n",
    "\n",
    "        wPos = (w / wNorm**2)\n",
    "        pos.append(start + np.dot([uo, vo, wPos], basis))\n",
    "        pos.append(start + np.dot([uo+uw, vo, wPos], basis))\n",
    "        pos.append(start + np.dot([uo-uw, vo, wPos], basis))\n",
    "        pos.append(start + np.dot([uo, vo+vw, wPos], basis))\n",
    "        pos.append(start + np.dot([uo, vo-vw, wPos], basis))\n",
    "\n",
    "    pos = np.array(np.floor(pos), dtype=np.int32)\n",
    "    \n",
    "    out[pos[:,0], pos[:,1], pos[:,2]] = .005\n",
    "    \n",
    "    return out"
   ]
  },
  {
   "cell_type": "code",
   "execution_count": null,
   "metadata": {
    "collapsed": false,
    "scrolled": false
   },
   "outputs": [],
   "source": [
    "s = thresholded\n",
    "s = drawSegment(s, trunk)\n",
    "s = drawSegment(s, rightLeg)\n",
    "s = drawSegment(s, leftLeg)\n",
    "s = drawSegment(s, rightBicep)\n",
    "s = drawSegment(s, leftBicep)\n",
    "s = drawSegment(s, rightForearm)\n",
    "s = drawSegment(s, leftForearm)\n",
    "\n",
    "# Front\n",
    "xz = np.mean(s, axis=1)\n",
    "fig, ax = plt.subplots(1, figsize=(30,30))\n",
    "ax.imshow(xz, cmap = 'viridis', interpolation = 'nearest')\n",
    "\n",
    "# Right\n",
    "yz = np.mean(s[0:xCenter+20,:,:], axis=0)\n",
    "fig, ax = plt.subplots(1, figsize=(30,30))\n",
    "ax.imshow(yz, cmap = 'viridis', interpolation = 'nearest')\n",
    "\n",
    "# Left\n",
    "yz = np.mean(s[xCenter-20:-1,:,:], axis=0)\n",
    "fig, ax = plt.subplots(1, figsize=(30,30))\n",
    "ax.imshow(yz, cmap = 'viridis', interpolation = 'nearest')"
   ]
  },
  {
   "cell_type": "markdown",
   "metadata": {},
   "source": [
    "# Forearm may be bad due to movement during scan"
   ]
  },
  {
   "cell_type": "code",
   "execution_count": null,
   "metadata": {
    "collapsed": false
   },
   "outputs": [],
   "source": [
    "fig, ax = plt.subplots(1, figsize=(30,30))\n",
    "ax.imshow(thresholded[:,:,560], cmap = 'viridis', interpolation = 'nearest')"
   ]
  },
  {
   "cell_type": "markdown",
   "metadata": {},
   "source": [
    "# Embed in cylindrical coordinates"
   ]
  },
  {
   "cell_type": "markdown",
   "metadata": {},
   "source": [
    "This section and the next few sections contain code that will be placed in the function getSegmentImage(), instead of going directly in the main processing loop."
   ]
  },
  {
   "cell_type": "code",
   "execution_count": null,
   "metadata": {
    "collapsed": false,
    "hiddenCell": true,
    "scrolled": false
   },
   "outputs": [],
   "source": [
    "%%cython \n",
    "#--annotate\n",
    "cimport cython\n",
    "import math\n",
    "import numpy as np\n",
    "from cython.view cimport array as cvarray\n",
    "\n",
    "cdef extern from \"math.h\":\n",
    "    float atan2(float x, float y)\n",
    "\n",
    "cdef extern from \"math.h\":\n",
    "    int floor(float x)\n",
    "\n",
    "cdef extern from \"math.h\":\n",
    "    float sqrt(float x)\n",
    "\n",
    "cdef extern from \"math.h\":\n",
    "    float fabs(float x)\n",
    "    \n",
    "@cython.boundscheck(False) # turn off bounds-checking for entire function\n",
    "@cython.wraparound(False)  # turn off negative index wrapping for entire function\n",
    "@cython.cdivision(True)\n",
    "def toCylindricalCoordinates( \n",
    "    float threshold,\n",
    "    float [:,:,:] arrayXYZ,\n",
    "    int [:,:] rangeXYZ,\n",
    "    float [:,:] basis,\n",
    "    float [:] startXYZ,\n",
    "    float [:] uOffsets,\n",
    "    float [:] uWidths,\n",
    "    float [:] vOffsets,\n",
    "    float [:] vWidths,\n",
    "    int nTheta,\n",
    "    int nRadius,\n",
    "    float [:] radiusRange\n",
    "    ):\n",
    "\n",
    "  \n",
    "    \"\"\"\n",
    "    Get a cylindrical coordinate transformation of a portion of the input arrayXYZ.\n",
    "    The input array should have a tube-like object (a leg for instance).\n",
    "    The output array will contain the tube-like object, \"unrawapped\" by a cylindrical coordinate transformation.\n",
    "    \n",
    "    Notes on geometry:\n",
    "    Argument 'startXYZ' is the origin of the ray along which waffles are stacked.  It's in the standard basis.\n",
    "    Argument 'basis' contains basis vectors u^hat, v^hat, w^hat.  \n",
    "    Arguments 'uOffsets' and 'vOffsets' contain offsets for the waffles, in the u+v subspace\n",
    "    Algorithm steps:\n",
    "        1: Subtract startXYZ from a voxel's xyz coordinates\n",
    "        2: Transform xyz coordinates to uvw coordinates\n",
    "        3: Subtract the offset in u+v space. This yields cylU and cylV.\n",
    "        4: Get cylindrical coordinates:\n",
    "            cylR = sqrt(cylU**2 + cylV**2)\n",
    "            cylTheta = atan2(cylV/vWidth, cylU/uWidth)\n",
    "            cylW = w coordinate from step 2\n",
    "        5: Add voxel's value to output array\n",
    "    The output output array is indexed by spatial coordinate (cylTheta, cylR, cylW)\n",
    "    \"\"\"\n",
    "    \n",
    "    # wLen is the number of waffles used in the cylindrical coordinate embedding\n",
    "    cdef int wLen = len(uOffsets)\n",
    "\n",
    "    # Variable out is a 2D image with 3 planes. \n",
    "    # Plane 0: total intensity (0th moment)\n",
    "    # Plane 1: intensity-weighted distance (1st moment)\n",
    "    # Plane 2: 2nd moment\n",
    "    # It is indexed by spatial coordinate (cylW, cylTheta)\n",
    "    cdef float [:,:,:,:] out = cvarray(shape=(nRadius, nTheta, wLen, 2), itemsize=sizeof(float), format=\"f\")\n",
    "    out[:,:,:] = 0.\n",
    "\n",
    "    # xyMask is used to skip vertical slices that are empty (I.e. below threshold)\n",
    "    cdef float [:,:] xyMask = np.mean(arrayXYZ, axis=2)\n",
    "    cdef float xyThreshold = threshold / 100\n",
    "    \n",
    "    # Basis matrix:  rows (u,v,w), columns (x,y,z)\n",
    "    # It's stored as single floats to maximize the chance they'll end up in CPU registers\n",
    "    # I'm avoiding Numpy since vectorization won't help much with tiny matrices and vectors\n",
    "    cdef float bux = basis[0,0]\n",
    "    cdef float buy = basis[0,1]\n",
    "    cdef float buz = basis[0,2]\n",
    "    cdef float bvx = basis[1,0]\n",
    "    cdef float bvy = basis[1,1]\n",
    "    cdef float bvz = basis[1,2]\n",
    "    cdef float bwx = basis[2,0]\n",
    "    cdef float bwy = basis[2,1]\n",
    "    cdef float bwz = basis[2,2]\n",
    "\n",
    "    # Voxel coordinates\n",
    "    cdef int x,y,z\n",
    "\n",
    "    # Reflectivity at voxel\n",
    "    cdef float val    \n",
    "\n",
    "    # Cylindrical coordinates\n",
    "    cdef float cylU, cylV, cylTheta, cylR\n",
    "    cdef int cylW, cylThetaIdx, cylRIdx\n",
    "\n",
    "    # Offset of voxel from the waffle stack's starting point, in xyz basis\n",
    "    cdef float ox, oy, oz\n",
    "\n",
    "    # Offset of voxel from waffle center, in uv basis\n",
    "    cdef float ou, ov\n",
    "\n",
    "    cdef float radiusRescale = (nRadius-1) / (radiusRange[1]-radiusRange[0])\n",
    "    cdef float norm\n",
    "    \n",
    "    cdef int xStart = min(rangeXYZ[0])\n",
    "    cdef int xEnd = max(rangeXYZ[0])\n",
    "    cdef int yStart = min(rangeXYZ[1])\n",
    "    cdef int yEnd = max(rangeXYZ[1])\n",
    "    cdef int zStart = min(rangeXYZ[2])\n",
    "    cdef int zEnd = max(rangeXYZ[2])\n",
    "    \n",
    "    # Loop over voxels, accumulate 2D embedding\n",
    "    for x in range(xStart, xEnd):\n",
    "        for y in range(yStart, yEnd):\n",
    "\n",
    "            # Skip empty z-slices\n",
    "            if xyMask[x,y] < xyThreshold: continue\n",
    "\n",
    "            for z in range(zStart, zEnd):\n",
    "\n",
    "                # Skip empty voxels\n",
    "                val = arrayXYZ[x,y,z]\n",
    "                if val < threshold: continue\n",
    "\n",
    "                # Get voxel's offset from starting point, in xyz basis\n",
    "                ox, oy, oz = (x-startXYZ[0], y-startXYZ[1], z-startXYZ[2])\n",
    "\n",
    "                # Get axial cylindrical coordinate\n",
    "                cylW = floor(bwx*ox + bwy*oy + bwz*oz)\n",
    "\n",
    "                # Ensure that voxel is within the output image's w-range\n",
    "                if cylW >= 0 and cylW < wLen:\n",
    "\n",
    "                    # Transform (ox,oy,oz) to uv basis\n",
    "                    ou, ov = (\n",
    "                        bux*ox + buy*oy + buz*oz, \n",
    "                        bvx*ox + bvy*oy + bvz*oz)\n",
    "\n",
    "                    # Get voxel's offset from waffle center, in uv basis\n",
    "                    # An axis-aligned scaling transform is also applied\n",
    "                    cylU = (ou - uOffsets[cylW]) / (uWidths[cylW])\n",
    "                    cylV = (ov - vOffsets[cylW]) / (vWidths[cylW])\n",
    "\n",
    "                    # Get radial cylindrical coordinate\n",
    "                    cylR = sqrt(cylU**2 + cylV**2)                    \n",
    "\n",
    "                    # Ensure that voxel is not far from waffle center\n",
    "                    if cylR >= radiusRange[0] and cylR <= radiusRange[1]:\n",
    "\n",
    "                        # Get angular cylindrical coordinate\n",
    "                        cylTheta = atan2(cylU, -cylV)\n",
    "\n",
    "                        # Get array index from theta\n",
    "                        cylThetaIdx = floor(nTheta/2 + cylTheta * (nTheta-1) / 2 / 3.14159)\n",
    "                        cylThetaIdx = 0 if cylThetaIdx < 0 else cylThetaIdx\n",
    "                        cylThetaIdx = nTheta-1 if cylThetaIdx >= nTheta else cylThetaIdx\n",
    "\n",
    "                        # Get array index from radius\n",
    "                        cylRIdx = floor((cylR - radiusRange[0])*radiusRescale)\n",
    "\n",
    "                        # Accumulate in bin\n",
    "                        out[cylRIdx, cylThetaIdx, cylW, 0] += 1\n",
    "                        out[cylRIdx, cylThetaIdx, cylW, 1] += val\n",
    "\n",
    "    # Normalize by number of voxels\n",
    "    for cylRIdx in range(nRadius):\n",
    "        for cylThetaIdx in range(nTheta):\n",
    "            for cylW in range(wLen):\n",
    "                norm = out[cylRIdx, cylThetaIdx, cylW, 0]\n",
    "                if norm > .00000001:\n",
    "                    out[cylRIdx, cylThetaIdx, cylW, 1] /= norm\n",
    "\n",
    "    return np.array(out[:,:,:,1], dtype=np.float32)"
   ]
  },
  {
   "cell_type": "code",
   "execution_count": null,
   "metadata": {
    "collapsed": false,
    "hiddenCell": true
   },
   "outputs": [],
   "source": [
    "trunk['tLen'] = 250\n",
    "trunk['rLen'] = 120\n",
    "trunk['highpassRadius'] = 5\n",
    "trunk['rescaleRadius'] = 0.1\n",
    "trunk['rescaleReflec'] = 500\n",
    "trunk['threshold'] = .00015\n",
    "\n",
    "rightLeg['tLen'] = 80\n",
    "rightLeg['rLen'] = 40\n",
    "rightLeg['highpassRadius'] = 5\n",
    "rightLeg['rescaleRadius'] = 0.1\n",
    "rightLeg['rescaleReflec'] = 500\n",
    "rightLeg['threshold'] = .0001\n",
    "\n",
    "leftLeg['tLen'] = 80\n",
    "leftLeg['rLen'] = 40\n",
    "leftLeg['highpassRadius'] = 5\n",
    "leftLeg['rescaleRadius'] = 0.1\n",
    "leftLeg['rescaleReflec'] = 500\n",
    "leftLeg['threshold'] = .0001\n",
    "\n",
    "rightBicep['tLen'] = 60\n",
    "rightBicep['rLen'] = 40\n",
    "rightBicep['highpassRadius'] = (2,5)\n",
    "rightBicep['rescaleRadius'] = 0.1\n",
    "rightBicep['rescaleReflec'] = 500\n",
    "rightBicep['threshold'] = .00001\n",
    "\n",
    "leftBicep['tLen'] = 60\n",
    "leftBicep['rLen'] = 40\n",
    "leftBicep['highpassRadius'] = (2,5)\n",
    "leftBicep['rescaleRadius'] = 0.1\n",
    "leftBicep['rescaleReflec'] = 500\n",
    "leftBicep['threshold'] = .00001\n",
    "\n",
    "rightForearm['tLen'] = 30\n",
    "rightForearm['rLen'] = 35\n",
    "rightForearm['highpassRadius'] = (2,5)\n",
    "rightForearm['rescaleRadius'] = 0.1\n",
    "rightForearm['rescaleReflec'] = 500\n",
    "rightForearm['threshold'] = .00001\n",
    "\n",
    "leftForearm['tLen'] = 30\n",
    "leftForearm['rLen'] = 35\n",
    "leftForearm['highpassRadius'] = (2,5)\n",
    "leftForearm['rescaleRadius'] = 0.1\n",
    "leftForearm['rescaleReflec'] = 500\n",
    "leftForearm['threshold'] = .00001"
   ]
  },
  {
   "cell_type": "code",
   "execution_count": null,
   "metadata": {
    "collapsed": false
   },
   "outputs": [],
   "source": [
    "# Simulated arguments to getSegmentImage()\n",
    "\n",
    "segment = rightForearm\n",
    "dat = data\n",
    "rRange = np.array([0.2,2], dtype=np.float32)\n",
    "highPassRadius = segment['highpassRadius']\n",
    "threshold = segment['threshold']\n",
    "rescaleRadius = segment['rescaleRadius']\n",
    "rescaleReflec = segment['rescaleReflec']\n",
    "tLen = segment['tLen']\n",
    "rLen = segment['rLen']"
   ]
  },
  {
   "cell_type": "code",
   "execution_count": null,
   "metadata": {
    "collapsed": false
   },
   "outputs": [],
   "source": [
    "####################################################\n",
    "# Embed segment in cylindrical coords.  (Place in getSegmentImage)\n",
    "####################################################\n",
    "\n",
    "#%time \\\n",
    "cylindrical = toCylindricalCoordinates( \\\n",
    "    threshold, dat, \\\n",
    "    segment['rangeXYZ'], segment['basis'], segment['start'], \\\n",
    "    segment['uOffsets'], segment['uWidths'], \\\n",
    "    segment['vOffsets'], segment['vWidths'], \\\n",
    "    tLen, rLen, \\\n",
    "    np.array(rRange, dtype=np.float32) \\\n",
    ")"
   ]
  },
  {
   "cell_type": "code",
   "execution_count": null,
   "metadata": {
    "collapsed": false
   },
   "outputs": [],
   "source": [
    "fig, ax = plt.subplots(3, figsize=(30,30))\n",
    "for i in range(3):\n",
    "    ax[i].imshow(np.take(cylindrical, math.floor(cylindrical.shape[i]/2), axis=i), cmap = 'viridis', interpolation = 'nearest')"
   ]
  },
  {
   "cell_type": "markdown",
   "metadata": {},
   "source": [
    "# Pad image on theta axis"
   ]
  },
  {
   "cell_type": "code",
   "execution_count": null,
   "metadata": {
    "collapsed": false
   },
   "outputs": [],
   "source": [
    "def pad(arr, portionOfCircle):\n",
    "    \n",
    "    nTheta = arr.shape[0]\n",
    "    nPad = math.floor(nTheta * portionOfCircle)\n",
    "    \n",
    "    out = np.array(arr, dtype=np.float32)\n",
    "    out = np.concatenate([out[nTheta-nPad:nTheta], out, out[0:nPad]], axis=0)\n",
    "    \n",
    "    return out"
   ]
  },
  {
   "cell_type": "code",
   "execution_count": null,
   "metadata": {
    "collapsed": false
   },
   "outputs": [],
   "source": [
    "####################################################\n",
    "# Pad image on theta axis.  (Place in getSegmentImage)\n",
    "####################################################\n",
    "cylindrical = np.transpose(cylindrical, axes=(1,0,2))\n",
    "cylindrical = pad(cylindrical, .25)\n",
    "cylindrical = np.transpose(cylindrical, axes=(1,0,2))"
   ]
  },
  {
   "cell_type": "code",
   "execution_count": null,
   "metadata": {
    "collapsed": false
   },
   "outputs": [],
   "source": [
    "fig, ax = plt.subplots(3, figsize=(30,30))\n",
    "for i in range(3):\n",
    "    ax[i].imshow(np.take(cylindrical, math.floor(cylindrical.shape[i]/2), axis=i), cmap = 'viridis', interpolation = 'nearest')"
   ]
  },
  {
   "cell_type": "markdown",
   "metadata": {},
   "source": [
    "# Smooth and inpaint to remove Moire gaps"
   ]
  },
  {
   "cell_type": "code",
   "execution_count": null,
   "metadata": {
    "collapsed": false,
    "hiddenCell": true
   },
   "outputs": [],
   "source": [
    "%%cython \n",
    "#--annotate\n",
    "cimport cython\n",
    "import math\n",
    "import numpy as np\n",
    "from cython.view cimport array as cvarray\n",
    "    \n",
    "@cython.boundscheck(False) # turn off bounds-checking for entire function\n",
    "@cython.wraparound(False)  # turn off negative index wrapping for entire function\n",
    "@cython.cdivision(True)\n",
    "\n",
    "def boxFilterNonzero(float [:,:,:] array):\n",
    "\n",
    "    \"\"\"\n",
    "    Convolutional filter that gets the average of non-zero neighbors\n",
    "    \"\"\"\n",
    "    \n",
    "    cdef int nr = array.shape[0]\n",
    "    cdef int nt = array.shape[1]\n",
    "    cdef int nw = array.shape[2]\n",
    "\n",
    "    cdef float [:,:,:] out = array.copy()\n",
    "\n",
    "    cdef int r, t, w, dr, dt, dw, n\n",
    "    cdef float dest, source, total\n",
    "    \n",
    "    for r in range(1, nr-1):\n",
    "        for t in range(1, nt-1):\n",
    "            for w in range(1, nw-1):\n",
    "\n",
    "                dest = array[r,t,w]\n",
    "\n",
    "                if dest < 0.00000001:\n",
    "\n",
    "                    n = 0\n",
    "                    total = 0\n",
    "\n",
    "                    for dr in range(-1,1):\n",
    "                        for dt in range(-1,1):\n",
    "                            for dw in range(-1,1):\n",
    "                                source = array[r+dr,t+dt,w+dw]\n",
    "                                if source > 0.00000001:\n",
    "                                    n += 1\n",
    "                                    total += source\n",
    "\n",
    "                    if n > 0:\n",
    "                        total /= n\n",
    "                        out[r,t,w] = total\n",
    "                        \n",
    "    return np.array(out, dtype=np.float32)            "
   ]
  },
  {
   "cell_type": "code",
   "execution_count": null,
   "metadata": {
    "collapsed": false,
    "hiddenCell": true
   },
   "outputs": [],
   "source": [
    "%%cython \n",
    "#--annotate\n",
    "cimport cython\n",
    "import math\n",
    "import numpy as np\n",
    "from cython.view cimport array as cvarray\n",
    "    \n",
    "@cython.boundscheck(False) # turn off bounds-checking for entire function\n",
    "@cython.wraparound(False)  # turn off negative index wrapping for entire function\n",
    "@cython.cdivision(True)\n",
    "def inpaint(float [:,:,:] unsmoothed, float [:,:,:] smoothed, float [:,:,:] smoothedPresence):\n",
    "    \"\"\"\n",
    "    Inpaints an image by replacing zeros in the image with values taken from a smoothed image.\n",
    "    It's much faster than scipy's inpainting function.\n",
    "    \"\"\"\n",
    "    \n",
    "    cdef int nr = unsmoothed.shape[0]\n",
    "    cdef int nt = unsmoothed.shape[1]\n",
    "    cdef int nw = unsmoothed.shape[2]\n",
    "    \n",
    "    cdef float [:,:,:] out = unsmoothed.copy()\n",
    "    cdef int r, t, w\n",
    "    \n",
    "    for r in range(nr):\n",
    "        for t in range(nt):\n",
    "            for w in range(nw):\n",
    "                \n",
    "                if unsmoothed[r,t,w] < .00000001 and smoothedPresence[r,t,w] > 0.01:\n",
    "                    out[r,t,w] = smoothed[r,t,w]/smoothedPresence[r,t,w]\n",
    "\n",
    "    return out"
   ]
  },
  {
   "cell_type": "code",
   "execution_count": null,
   "metadata": {
    "collapsed": false
   },
   "outputs": [],
   "source": [
    "####################################################\n",
    "# Filter and inpaint to remove Moire gaps.  (Place in getSegmentImage)\n",
    "####################################################\n",
    "boxFiltered = boxFilterNonzero(cylindrical)\n",
    "smoothed = sp.ndimage.filters.gaussian_filter(boxFiltered, (1,2,2))\n",
    "presence = np.array(boxFiltered > 0.00000001, dtype=np.float32)\n",
    "smoothedPresence = sp.ndimage.filters.gaussian_filter(presence, (1,2,2))\n",
    "inpainted = inpaint(boxFiltered, smoothed, smoothedPresence)"
   ]
  },
  {
   "cell_type": "code",
   "execution_count": null,
   "metadata": {
    "collapsed": false
   },
   "outputs": [],
   "source": [
    "fig, ax = plt.subplots(3, figsize=(30,30))\n",
    "for i in range(3):\n",
    "    ax[i].imshow(np.take(inpainted, math.floor(inpainted.shape[i]/2), axis=i), cmap = 'viridis', interpolation = 'nearest')"
   ]
  },
  {
   "cell_type": "markdown",
   "metadata": {},
   "source": [
    "smoothed = sp.ndimage.filters.median_filter(cylindrical, (2,4,4))\n",
    "smoothed = sp.ndimage.filters.gaussian_filter(smoothed, (1,2,2))\n",
    "inpainted = inpaint(cylindrical, smoothed)"
   ]
  },
  {
   "cell_type": "markdown",
   "metadata": {},
   "source": [
    "# Get surface moments"
   ]
  },
  {
   "cell_type": "code",
   "execution_count": null,
   "metadata": {
    "collapsed": false,
    "hiddenCell": true
   },
   "outputs": [],
   "source": [
    "%%cython \n",
    "#--annotate\n",
    "cimport cython\n",
    "import math\n",
    "import numpy as np\n",
    "from cython.view cimport array as cvarray\n",
    "\n",
    "cdef extern from \"math.h\":\n",
    "    int floor(float x)\n",
    "\n",
    "@cython.boundscheck(False) # turn off bounds-checking for entire function\n",
    "@cython.wraparound(False)  # turn off negative index wrapping for entire function\n",
    "@cython.cdivision(True)\n",
    "def surfaceMoments(float [:,:,:] array, float thresholdPortion):\n",
    "    \"\"\"\n",
    "    Given an array with dimensions (r, theta, w), this function\n",
    "    calculates the peak moments in the r lists, and returns\n",
    "    a 2+1 dimensional array with moments 0, 1, and 2 as image channels.    \n",
    "    \"\"\"\n",
    "    \n",
    "    cdef int nr = array.shape[0]\n",
    "    cdef int nt = array.shape[1]\n",
    "    cdef int nw = array.shape[2]\n",
    "    \n",
    "    cdef float [:,:,:] out = np.zeros(shape=(nt,nw,3), dtype=np.float32)\n",
    "    \n",
    "    cdef float val, maxVal, maxPos\n",
    "    cdef int r, windowStart, windowEnd\n",
    "    cdef float total0, total1, total2\n",
    "    cdef float threshold, subtract\n",
    "\n",
    "    for w in range(nw):\n",
    "        for t in range(nt):\n",
    "\n",
    "            # Get maximum\n",
    "            maxVal = -1\n",
    "            maxPos = 0\n",
    "            for r in range(nr):\n",
    "                val = array[r,t,w]\n",
    "                if val > maxVal:\n",
    "                    maxVal = val\n",
    "                    maxPos = r\n",
    "\n",
    "            # Improve peak position\n",
    "            windowStart = floor(maxPos) - 2\n",
    "            windowStart = 0 if windowStart<0 else windowStart\n",
    "\n",
    "            windowEnd = windowStart + 4\n",
    "            windowEnd = nr if windowEnd>nr else windowEnd\n",
    "\n",
    "            total0 = 0\n",
    "            total1 = 0\n",
    "            for r in range(windowStart, windowEnd):\n",
    "                total0 += array[r,t,w]\n",
    "                total1 += array[r,t,w] * r\n",
    "            if total0 > .00000001:\n",
    "                maxPos = total1 / total0\n",
    "\n",
    "            # Get a threshold for the next part\n",
    "            threshold = maxVal * thresholdPortion\n",
    "            subtract = threshold # set this to zero for flatter mass distribution\n",
    "\n",
    "            # Get spatial moment 0, using thresholded masses\n",
    "            total0 = 0\n",
    "            total1 = 0\n",
    "            for r in range(nr):\n",
    "                val = array[r,t,w]\n",
    "                if val >= threshold:\n",
    "                    val -= subtract\n",
    "                    total0 += val\n",
    "\n",
    "            if total0 > 0.00000001:\n",
    "\n",
    "                # Get spatial moment 2, using thresholded masses\n",
    "                total2 = 0\n",
    "                for r in range(nr):\n",
    "                    val = array[r,t,w]\n",
    "                    if val >= threshold:\n",
    "                        val -= subtract\n",
    "                        total2 += val * (r - maxPos) ** 2\n",
    "                total2 = (total2 / total0) ** 0.5\n",
    "\n",
    "            out[t,w,0] = maxVal\n",
    "            out[t,w,1] = maxPos\n",
    "            out[t,w,2] = total2\n",
    "\n",
    "    return np.array(out, dtype=np.float32)"
   ]
  },
  {
   "cell_type": "code",
   "execution_count": null,
   "metadata": {
    "collapsed": false
   },
   "outputs": [],
   "source": [
    "####################################################\n",
    "# Get surface moments.  (Place in getSegmentImage)\n",
    "####################################################\n",
    "moments = surfaceMoments(inpainted, 0.5)"
   ]
  },
  {
   "cell_type": "code",
   "execution_count": null,
   "metadata": {
    "collapsed": false
   },
   "outputs": [],
   "source": [
    "fig, ax = plt.subplots(3, figsize=(30,30))\n",
    "for i in range(3):\n",
    "    ax[i].imshow(moments[:,:,i])"
   ]
  },
  {
   "cell_type": "markdown",
   "metadata": {},
   "source": [
    "# Rescale image channels"
   ]
  },
  {
   "cell_type": "code",
   "execution_count": null,
   "metadata": {
    "collapsed": false
   },
   "outputs": [],
   "source": [
    "def imageAdjust(img, scale):\n",
    "    out = img.copy()\n",
    "    for i in range(img.shape[2]):\n",
    "        median = np.median(img[:,:,i])\n",
    "        out[:,:,i] = out[:,:,i] - median\n",
    "        out[:,:,i] *= scale[i]\n",
    "        out[:,:,i] += 0.5\n",
    "        out[:,:,i] = np.clip(out[:,:,i], 0, 1)\n",
    "    return out"
   ]
  },
  {
   "cell_type": "code",
   "execution_count": null,
   "metadata": {
    "collapsed": false
   },
   "outputs": [],
   "source": [
    "####################################################\n",
    "# Rescale moments to (0,1).  (Place in getSegmentImage)\n",
    "####################################################\n",
    "img = imageAdjust(moments, (1000, 0.01, 0.05))"
   ]
  },
  {
   "cell_type": "code",
   "execution_count": null,
   "metadata": {
    "collapsed": false
   },
   "outputs": [],
   "source": [
    "fig, ax = plt.subplots(1, figsize=(30,30))\n",
    "ax.imshow(img)"
   ]
  },
  {
   "cell_type": "markdown",
   "metadata": {},
   "source": [
    "# Depad/repad image"
   ]
  },
  {
   "cell_type": "code",
   "execution_count": null,
   "metadata": {
    "collapsed": false
   },
   "outputs": [],
   "source": [
    "def depad(arr, portion):\n",
    "    nTheta = len(arr)\n",
    "    nPad = math.floor(nTheta * portion)\n",
    "    out = arr[nPad:-nPad]\n",
    "    return out"
   ]
  },
  {
   "cell_type": "code",
   "execution_count": null,
   "metadata": {
    "collapsed": false
   },
   "outputs": [],
   "source": [
    "####################################################\n",
    "# Depad/repad image.  (Place in getSegmentImage)\n",
    "####################################################\n",
    "img = depad(img, .1666)\n",
    "img = pad(img, .25)"
   ]
  },
  {
   "cell_type": "code",
   "execution_count": null,
   "metadata": {
    "collapsed": false
   },
   "outputs": [],
   "source": [
    "fig, ax = plt.subplots(1, figsize=(30,30))\n",
    "ax.imshow(img)"
   ]
  },
  {
   "cell_type": "markdown",
   "metadata": {},
   "source": [
    "# Get image for a segment"
   ]
  },
  {
   "cell_type": "code",
   "execution_count": null,
   "metadata": {
    "collapsed": false,
    "hiddenCell": true
   },
   "outputs": [],
   "source": [
    "def getSegmentImage(\n",
    "    threshold,\n",
    "    dat,\n",
    "    segment,\n",
    "    tLen,\n",
    "    rLen,\n",
    "    rRange,\n",
    "    highpassRadius,\n",
    "    rescaleRadius,\n",
    "    rescaleReflec,\n",
    "    rescaleThickness):\n",
    "    \n",
    "    global threshold3D\n",
    "\n",
    "    ####################################################\n",
    "    # Embed segment in cylindrical coords.  (Place in getSegmentImage)\n",
    "    ####################################################\n",
    "    cylindrical = toCylindricalCoordinates( \\\n",
    "        threshold, dat, \\\n",
    "        segment['rangeXYZ'], segment['basis'], segment['start'], \\\n",
    "        segment['uOffsets'], segment['uWidths'], \\\n",
    "        segment['vOffsets'], segment['vWidths'], \\\n",
    "        tLen, rLen, \\\n",
    "        np.array(rRange, dtype=np.float32) \\\n",
    "    )\n",
    "\n",
    "    ####################################################\n",
    "    # Pad image on theta axis.  (Place in getSegmentImage)\n",
    "    ####################################################\n",
    "    cylindrical = np.transpose(cylindrical, axes=(1,0,2))\n",
    "    cylindrical = pad(cylindrical, .25)\n",
    "    cylindrical = np.transpose(cylindrical, axes=(1,0,2))\n",
    "\n",
    "    ####################################################\n",
    "    # Filter and inpaint to remove Moire gaps.  (Place in getSegmentImage)\n",
    "    ####################################################\n",
    "    boxFiltered = boxFilterNonzero(cylindrical)\n",
    "    smoothed = sp.ndimage.filters.gaussian_filter(boxFiltered, (1,2,2))\n",
    "    presence = np.array(boxFiltered > 0.00000001, dtype=np.float32)\n",
    "    smoothedPresence = sp.ndimage.filters.gaussian_filter(presence, (1,2,2))\n",
    "    inpainted = inpaint(boxFiltered, smoothed, smoothedPresence)\n",
    "\n",
    "    ####################################################\n",
    "    # Get surface moments.  (Place in getSegmentImage)\n",
    "    ####################################################\n",
    "    moments = surfaceMoments(inpainted, 0.5)\n",
    "    \n",
    "    ####################################################\n",
    "    # Rescale moments to (0,1).  (Place in getSegmentImage)\n",
    "    ####################################################\n",
    "    img = imageAdjust(moments, (rescaleReflec, rescaleRadius, rescaleThickness))\n",
    "\n",
    "    ####################################################\n",
    "    # Depad/repad image.  (Place in getSegmentImage)\n",
    "    ####################################################\n",
    "    img = depad(img, .1666)\n",
    "    img = pad(img, .25)\n",
    "\n",
    "    return img"
   ]
  },
  {
   "cell_type": "markdown",
   "metadata": {},
   "source": [
    "# Get trunk image"
   ]
  },
  {
   "cell_type": "markdown",
   "metadata": {},
   "source": [
    "The remaining sections are to be placed in the main loop, not in getSegmentImage() like the last few sections."
   ]
  },
  {
   "cell_type": "code",
   "execution_count": null,
   "metadata": {
    "collapsed": false
   },
   "outputs": [],
   "source": [
    "####################################################\n",
    "log('Get trunk image')\n",
    "####################################################\n",
    "trunkImg = getSegmentImage(\n",
    "    threshold = .00015,\n",
    "    dat = data,\n",
    "    segment = trunk,\n",
    "    tLen = 250,\n",
    "    rLen = 120,\n",
    "    rRange = (0.2,2),\n",
    "    highpassRadius = 5,\n",
    "    rescaleReflec = 1500,\n",
    "    rescaleRadius = .03,\n",
    "    rescaleThickness = .13\n",
    ")"
   ]
  },
  {
   "cell_type": "code",
   "execution_count": null,
   "metadata": {
    "collapsed": false
   },
   "outputs": [],
   "source": [
    "fig, ax = plt.subplots(1, figsize=(30,30))\n",
    "ax.imshow(trunkImg)"
   ]
  },
  {
   "cell_type": "markdown",
   "metadata": {},
   "source": [
    "# Right leg"
   ]
  },
  {
   "cell_type": "code",
   "execution_count": null,
   "metadata": {
    "collapsed": false
   },
   "outputs": [],
   "source": [
    "####################################################\n",
    "log('Get right leg image')\n",
    "####################################################\n",
    "rightLegImg = getSegmentImage(\n",
    "    threshold = .0001,\n",
    "    dat = data,\n",
    "    segment = rightLeg,\n",
    "    tLen = 100,\n",
    "    rLen = 80,\n",
    "    rRange = (0.2,2),\n",
    "    highpassRadius = 5,\n",
    "    rescaleReflec = 1500,\n",
    "    rescaleRadius = .03,\n",
    "    rescaleThickness = .133\n",
    ")"
   ]
  },
  {
   "cell_type": "code",
   "execution_count": null,
   "metadata": {
    "collapsed": false
   },
   "outputs": [],
   "source": [
    "fig, ax = plt.subplots(1, figsize=(30,30))\n",
    "ax.imshow(rightLegImg)"
   ]
  },
  {
   "cell_type": "markdown",
   "metadata": {},
   "source": [
    "# Left leg"
   ]
  },
  {
   "cell_type": "code",
   "execution_count": null,
   "metadata": {
    "collapsed": false
   },
   "outputs": [],
   "source": [
    "####################################################\n",
    "log('Get left leg image')\n",
    "####################################################\n",
    "leftLegImg = getSegmentImage(\n",
    "    threshold = .0001,\n",
    "    dat = data,\n",
    "    segment = leftLeg,\n",
    "    tLen = 100,\n",
    "    rLen = 80,\n",
    "    rRange = (0.2,2),\n",
    "    highpassRadius = 5,\n",
    "    rescaleReflec = 1500,\n",
    "    rescaleRadius = .03,\n",
    "    rescaleThickness = .133\n",
    ")\n",
    "leftLegImg = np.flipud(leftLegImg)"
   ]
  },
  {
   "cell_type": "code",
   "execution_count": null,
   "metadata": {
    "collapsed": false
   },
   "outputs": [],
   "source": [
    "fig, ax = plt.subplots(1, figsize=(30,30))\n",
    "ax.imshow(leftLegImg)"
   ]
  },
  {
   "cell_type": "markdown",
   "metadata": {},
   "source": [
    "# Right bicep"
   ]
  },
  {
   "cell_type": "code",
   "execution_count": null,
   "metadata": {
    "collapsed": false
   },
   "outputs": [],
   "source": [
    "####################################################\n",
    "log('Get right bicep image')\n",
    "####################################################\n",
    "rightBicepImg = getSegmentImage(\n",
    "    threshold = .00001,\n",
    "    dat = data,\n",
    "    segment = rightBicep,\n",
    "    tLen = 60,\n",
    "    rLen = 40,\n",
    "    rRange = (0.2,3),\n",
    "    highpassRadius = (2,5),\n",
    "    rescaleReflec = 1500,\n",
    "    rescaleRadius = .03,\n",
    "    rescaleThickness = .133\n",
    ")"
   ]
  },
  {
   "cell_type": "code",
   "execution_count": null,
   "metadata": {
    "collapsed": false
   },
   "outputs": [],
   "source": [
    "fig, ax = plt.subplots(1, figsize=(30,30))\n",
    "ax.imshow(rightBicepImg)"
   ]
  },
  {
   "cell_type": "markdown",
   "metadata": {},
   "source": [
    "# Left bicep"
   ]
  },
  {
   "cell_type": "code",
   "execution_count": null,
   "metadata": {
    "collapsed": false
   },
   "outputs": [],
   "source": [
    "####################################################\n",
    "log('Get left bicep image')\n",
    "####################################################\n",
    "leftBicepImg = getSegmentImage(\n",
    "    threshold = .00001,\n",
    "    dat = data,\n",
    "    segment = leftBicep,\n",
    "    tLen = 60,\n",
    "    rLen = 40,\n",
    "    rRange = (0.2,3),\n",
    "    highpassRadius = (2,5),\n",
    "    rescaleReflec = 1500,\n",
    "    rescaleRadius = .03,\n",
    "    rescaleThickness = .133\n",
    ")\n",
    "leftBicepImg = np.flipud(leftBicepImg)"
   ]
  },
  {
   "cell_type": "code",
   "execution_count": null,
   "metadata": {
    "collapsed": false
   },
   "outputs": [],
   "source": [
    "fig, ax = plt.subplots(1, figsize=(30,30))\n",
    "ax.imshow(leftBicepImg)"
   ]
  },
  {
   "cell_type": "markdown",
   "metadata": {},
   "source": [
    "# Right forearm"
   ]
  },
  {
   "cell_type": "code",
   "execution_count": null,
   "metadata": {
    "collapsed": false
   },
   "outputs": [],
   "source": [
    "####################################################\n",
    "log('Get right forearm image')\n",
    "####################################################\n",
    "rightForearmImg = getSegmentImage(\n",
    "    threshold = .00001,\n",
    "    dat = data,\n",
    "    segment = rightForearm,\n",
    "    tLen = 50,\n",
    "    rLen = 35,\n",
    "    rRange = (0.2,3),\n",
    "    highpassRadius = (2,5),\n",
    "    rescaleReflec = 1500,\n",
    "    rescaleRadius = .02,\n",
    "    rescaleThickness = .133\n",
    ")"
   ]
  },
  {
   "cell_type": "code",
   "execution_count": null,
   "metadata": {
    "collapsed": false
   },
   "outputs": [],
   "source": [
    "fig, ax = plt.subplots(1, figsize=(30,30))\n",
    "ax.imshow(rightForearmImg)"
   ]
  },
  {
   "cell_type": "markdown",
   "metadata": {},
   "source": [
    "# Left forearm"
   ]
  },
  {
   "cell_type": "code",
   "execution_count": null,
   "metadata": {
    "collapsed": false
   },
   "outputs": [],
   "source": [
    "####################################################\n",
    "log('Get left forearm image')\n",
    "####################################################\n",
    "leftForearmImg = getSegmentImage(\n",
    "    threshold = .00001,\n",
    "    dat = data,\n",
    "    segment = leftForearm,\n",
    "    tLen = 50,\n",
    "    rLen = 35,\n",
    "    rRange = (0.2,3),\n",
    "    highpassRadius = (2,5),\n",
    "    rescaleReflec = 1500,\n",
    "    rescaleRadius = .02,\n",
    "    rescaleThickness = .133\n",
    ")\n",
    "leftForearmImg = np.flipud(leftForearmImg)"
   ]
  },
  {
   "cell_type": "code",
   "execution_count": null,
   "metadata": {
    "collapsed": false
   },
   "outputs": [],
   "source": [
    "fig, ax = plt.subplots(1, figsize=(30,30))\n",
    "ax.imshow(leftForearmImg)"
   ]
  },
  {
   "cell_type": "markdown",
   "metadata": {},
   "source": [
    "# Combine images"
   ]
  },
  {
   "cell_type": "code",
   "execution_count": null,
   "metadata": {
    "collapsed": false
   },
   "outputs": [],
   "source": [
    "####################################################\n",
    "log('Combine images')\n",
    "####################################################\n",
    "trunkResized = resize(trunkImg, (360,256), mode='edge')\n",
    "rightLegResized = resize(rightLegImg, (180,256), mode='edge')\n",
    "leftLegResized = resize(leftLegImg, (180,256), mode='edge')\n",
    "rightBicepResized = resize(rightBicepImg, (90,128), mode='edge')\n",
    "leftBicepResized = resize(leftBicepImg, (90,128), mode='edge')\n",
    "rightForearmResized = resize(rightForearmImg, (70,128), mode='edge')\n",
    "leftForearmResized = resize(leftForearmImg, (70,128), mode='edge')\n",
    "\n",
    "forearmEmpty = np.full(shape=(20,128,3), fill_value=.5)\n",
    "rightForearmResized = np.concatenate([rightForearmResized, forearmEmpty], axis=0)\n",
    "leftForearmResized = np.concatenate([leftForearmResized, forearmEmpty], axis=0)\n",
    "\n",
    "rightArm = np.concatenate([rightBicepResized, rightForearmResized], axis=1)\n",
    "leftArm = np.concatenate([leftBicepResized, leftForearmResized], axis=1)\n",
    "\n",
    "bodyImg = np.concatenate([\n",
    "    trunkResized,\n",
    "    rightLegResized,\n",
    "    leftLegResized,\n",
    "    rightArm,\n",
    "    leftArm\n",
    "    ], axis=0)"
   ]
  },
  {
   "cell_type": "code",
   "execution_count": null,
   "metadata": {
    "collapsed": false,
    "scrolled": false
   },
   "outputs": [],
   "source": [
    "fig, ax = plt.subplots(1, figsize=(30,30))\n",
    "ax.imshow(bodyImg)"
   ]
  },
  {
   "cell_type": "markdown",
   "metadata": {},
   "source": [
    "# Save image"
   ]
  },
  {
   "cell_type": "code",
   "execution_count": null,
   "metadata": {
    "collapsed": false
   },
   "outputs": [],
   "source": [
    "outputDir = embeddedDir1"
   ]
  },
  {
   "cell_type": "code",
   "execution_count": null,
   "metadata": {
    "collapsed": false
   },
   "outputs": [],
   "source": [
    "####################################################\n",
    "log('Save image')\n",
    "####################################################\n",
    "base = inputFile.split('/')[-1]\n",
    "base = base.split('.')[-2]\n",
    "outputFile = outputDir[6:] + base + '.png'\n",
    "imsave(outputFile, bodyImg)"
   ]
  },
  {
   "cell_type": "markdown",
   "metadata": {
    "collapsed": true
   },
   "source": [
    "# Function to process a scan (all of the above copy/pasted here)"
   ]
  },
  {
   "cell_type": "code",
   "execution_count": null,
   "metadata": {
    "collapsed": false
   },
   "outputs": [],
   "source": [
    "def processScan(inputFile, outputDir):\n",
    "\n",
    "  ####################################################\n",
    "  log('+++++ Read file ' + inputFile + ' +++++')\n",
    "  ####################################################\n",
    "  # Note: title comments like the one above indicate \n",
    "  # notebook cells that are copy/pasted to the main \n",
    "  # processing loop at the bottom of the notebook.\n",
    "  data = loadFile(inputFile)\n",
    "\n",
    "  ####################################################\n",
    "  log('Threshold')\n",
    "  ####################################################\n",
    "  thresholded = np.clip(data, threshold3D, 100000) - threshold3D\n",
    "\n",
    "  ####################################################\n",
    "  log('Average along axii to get 2D mean images')\n",
    "  ####################################################\n",
    "  # Summed images will have yz, xz, xy axes, respectively\n",
    "  means2D = list([thresholded.mean(axis=i) for i in range(3)])\n",
    "  mean2DAxii = [('y', 'z'), ('x','z'), ('x','y')]\n",
    "\n",
    "  ####################################################\n",
    "  log('Get center of mass')\n",
    "  ####################################################\n",
    "  # Could do this on the 3D image, but it's much faster on 2D images \n",
    "  xCenter, zCenter = np.round(ndimage.measurements.center_of_mass(means2D[1])).astype(int)\n",
    "  yCenter, dmy = np.round(ndimage.measurements.center_of_mass(means2D[0])).astype(int)\n",
    "\n",
    "  ####################################################\n",
    "  log('Get end of trunk z-range (top of shoulders)')\n",
    "  ####################################################\n",
    "  zStart, zEnd = (int(zCenter * 1.2), int(zCenter * 1.7))\n",
    "  if zEnd > data.shape[2]: zEnd = data.shape[2]\n",
    "\n",
    "  xStart = int(xCenter - .25 * zCenter)\n",
    "  xEnd = int(xCenter + .25 * zCenter)\n",
    "\n",
    "  midStrip = means2D[1][xStart:xEnd, zStart:zEnd]\n",
    "\n",
    "  off = midStrip < 0.00000001\n",
    "  numOff = np.sum(off, axis=0)\n",
    "\n",
    "  trunkEnd = firstOn(numOff, .15)\n",
    "  trunkEnd += zStart\n",
    "\n",
    "  ####################################################\n",
    "  log('Get start of trunk z-range (bottom of groin)')\n",
    "  ####################################################\n",
    "  zStart = int(0.5 * zCenter)\n",
    "  zStrip = np.mean(thresholded[:, yCenter:, zStart:zCenter], axis=0)\n",
    "  zStrip = gaussian_filter(zStrip, (5,5))\n",
    "  buttProfile = np.array([firstOff(x, .05) for x in np.transpose(zStrip)])\n",
    "  buttProfile = median_filter(buttProfile, 5)\n",
    "  buttProfile = savgol_filter(buttProfile, 11, 2, deriv=1, mode='nearest')\n",
    "  trunkStart = zStart + np.argmax(buttProfile)\n",
    "\n",
    "  ####################################################\n",
    "  log('Erase head')\n",
    "  ####################################################\n",
    "  # Head position, size\n",
    "  headCenterZ = trunkEnd * 1.12\n",
    "  headHeight = trunkEnd * .15\n",
    "  headWidth = trunkEnd * .13\n",
    "\n",
    "  # Get center X for head, which may be shifted relative to body\n",
    "  headStripStartZ = math.floor(trunkEnd * 1.05)\n",
    "  headStripEndZ = math.floor(trunkEnd * 1.1)\n",
    "  headStripStartX = math.floor(xCenter - trunkEnd*.18)\n",
    "  headStripEndX = math.floor(xCenter + trunkEnd*.18)\n",
    "  headStripMean = np.mean(thresholded[headStripStartX:headStripEndX, :, headStripStartZ:headStripEndZ], axis=(1,2))\n",
    "  middle = math.floor(len(headStripMean)/2)\n",
    "  rightMost = firstOff(headStripMean[middle:0:-1], .05)\n",
    "  leftMost = firstOff(headStripMean[middle:-1], .05)\n",
    "  headOffsetX = math.floor((leftMost-rightMost)/2)\n",
    "\n",
    "  # Erase head by deleting cylindrical region\n",
    "  thresholded = eraseHead(thresholded, xCenter + headOffsetX, headCenterZ, headWidth, headHeight)\n",
    "  data = eraseHead(data, xCenter + headOffsetX, headCenterZ, headWidth, headHeight)\n",
    "\n",
    "  # Recalculate averages along axii\n",
    "  means2D = list([thresholded.mean(axis=i) for i in range(3)])\n",
    "  mean2DAxii = [('y', 'z'), ('x','z'), ('x','y')]\n",
    "\n",
    "  ####################################################\n",
    "  log('Get leg and trunk waffle stacks')\n",
    "  ####################################################\n",
    "\n",
    "  # Right leg\n",
    "  end = int(1.27 * trunkStart)\n",
    "  rightLeg = makeWaffles(\n",
    "      thresholded, \n",
    "      (0, xCenter), \n",
    "      (0, thresholded.shape[1]), \n",
    "      (0, end), \n",
    "      0, end, np.eye(3), 200, 0.00001, .16\n",
    "  )\n",
    "\n",
    "  # Left leg\n",
    "  end = int(1.27 * trunkStart)\n",
    "  leftLeg = makeWaffles(\n",
    "      thresholded, \n",
    "      (xCenter, thresholded.shape[0]), \n",
    "      (0, thresholded.shape[1]), \n",
    "      (0, end), \n",
    "      0, end, np.eye(3), 200, 0.00001, .16\n",
    "  )\n",
    "\n",
    "  # Trunk\n",
    "  start = int(.95 * trunkStart)\n",
    "  end = int(trunkEnd)\n",
    "  trunk = makeWaffles(\n",
    "      thresholded, \n",
    "      (0, thresholded.shape[0]), \n",
    "      (0, thresholded.shape[1]), \n",
    "      (start, end), \n",
    "      start, end, np.eye(3), 250, 0.00001, .16\n",
    "  )\n",
    "\n",
    "  ####################################################\n",
    "  log('Get arm waffle stacks')\n",
    "  ####################################################\n",
    "\n",
    "  # Guess armpit height\n",
    "  armpitZ = int(trunkStart + 0.9 * (trunkEnd - trunkStart))\n",
    "\n",
    "  # Right arm\n",
    "  shoulderPos, elbowPos, wristPos, fingertipZ = getArmJointCoordinates(thresholded, means2D, xCenter, armpitZ, False)\n",
    "\n",
    "  # Right bicep\n",
    "  rightBicep = makeWaffles(\n",
    "      thresholded,\n",
    "      (0, xCenter), (0, thresholded.shape[1]), (math.floor(shoulderPos[2]*.9), elbowPos[2]+20),\n",
    "      shoulderPos, elbowPos, getArmSegmentBasis(shoulderPos, elbowPos), 80, 0.00001, .7\n",
    "  )\n",
    "\n",
    "  # Right forearm\n",
    "  rightForearm = makeWaffles(\n",
    "      thresholded,\n",
    "      (0, xCenter), (0, thresholded.shape[1]), (elbowPos[2]-20, wristPos[2]+20),\n",
    "      elbowPos, wristPos, getArmSegmentBasis(elbowPos, wristPos), 60, 0.00001, .9\n",
    "  )\n",
    "\n",
    "  # Left arm\n",
    "  shoulderPos, elbowPos, wristPos, fingertipZ = getArmJointCoordinates(thresholded, means2D, xCenter, armpitZ, True)\n",
    "\n",
    "  # Left bicep\n",
    "  leftBicep = makeWaffles(\n",
    "      thresholded,\n",
    "      (xCenter, thresholded.shape[0]), (0, thresholded.shape[1]), (math.floor(shoulderPos[2]*.9), elbowPos[2]+20),\n",
    "      shoulderPos, elbowPos, getArmSegmentBasis(shoulderPos, elbowPos), 80, 0.00001, .7\n",
    "  )\n",
    "\n",
    "  # Left forearm\n",
    "  leftForearm = makeWaffles(\n",
    "      thresholded,\n",
    "      (xCenter, thresholded.shape[0]), (0, thresholded.shape[1]), (elbowPos[2]-20, wristPos[2]+20),\n",
    "      elbowPos, wristPos, getArmSegmentBasis(elbowPos, wristPos), 60, 0.00001, .9\n",
    "  )\n",
    "\n",
    "  ####################################################\n",
    "  log('Get trunk image')\n",
    "  ####################################################\n",
    "  trunkImg = getSegmentImage(\n",
    "      threshold = .00015,\n",
    "      dat = data,\n",
    "      segment = trunk,\n",
    "      tLen = 250,\n",
    "      rLen = 120,\n",
    "      rRange = (0.2,2),\n",
    "      highpassRadius = 5,\n",
    "      rescaleReflec = 1500,\n",
    "      rescaleRadius = .03,\n",
    "      rescaleThickness = .13\n",
    "  )\n",
    "\n",
    "  ####################################################\n",
    "  log('Get right leg image')\n",
    "  ####################################################\n",
    "  rightLegImg = getSegmentImage(\n",
    "      threshold = .0001,\n",
    "      dat = data,\n",
    "      segment = rightLeg,\n",
    "      tLen = 100,\n",
    "      rLen = 80,\n",
    "      rRange = (0.2,2),\n",
    "      highpassRadius = 5,\n",
    "      rescaleReflec = 1500,\n",
    "      rescaleRadius = .03,\n",
    "      rescaleThickness = .133\n",
    "  )\n",
    "\n",
    "  ####################################################\n",
    "  log('Get left leg image')\n",
    "  ####################################################\n",
    "  leftLegImg = getSegmentImage(\n",
    "      threshold = .0001,\n",
    "      dat = data,\n",
    "      segment = leftLeg,\n",
    "      tLen = 100,\n",
    "      rLen = 80,\n",
    "      rRange = (0.2,2),\n",
    "      highpassRadius = 5,\n",
    "      rescaleReflec = 1500,\n",
    "      rescaleRadius = .03,\n",
    "      rescaleThickness = .133\n",
    "  )\n",
    "  leftLegImg = np.flipud(leftLegImg)\n",
    "\n",
    "  ####################################################\n",
    "  log('Get right bicep image')\n",
    "  ####################################################\n",
    "  rightBicepImg = getSegmentImage(\n",
    "      threshold = .00001,\n",
    "      dat = data,\n",
    "      segment = rightBicep,\n",
    "      tLen = 60,\n",
    "      rLen = 40,\n",
    "      rRange = (0.2,3),\n",
    "      highpassRadius = (2,5),\n",
    "      rescaleReflec = 1500,\n",
    "      rescaleRadius = .03,\n",
    "      rescaleThickness = .133\n",
    "  )\n",
    "\n",
    "  ####################################################\n",
    "  log('Get left bicep image')\n",
    "  ####################################################\n",
    "  leftBicepImg = getSegmentImage(\n",
    "      threshold = .00001,\n",
    "      dat = data,\n",
    "      segment = leftBicep,\n",
    "      tLen = 60,\n",
    "      rLen = 40,\n",
    "      rRange = (0.2,3),\n",
    "      highpassRadius = (2,5),\n",
    "      rescaleReflec = 1500,\n",
    "      rescaleRadius = .03,\n",
    "      rescaleThickness = .133\n",
    "  )\n",
    "  leftBicepImg = np.flipud(leftBicepImg)\n",
    "\n",
    "  ####################################################\n",
    "  log('Get right forearm image')\n",
    "  ####################################################\n",
    "  rightForearmImg = getSegmentImage(\n",
    "      threshold = .00001,\n",
    "      dat = data,\n",
    "      segment = rightForearm,\n",
    "      tLen = 50,\n",
    "      rLen = 35,\n",
    "      rRange = (0.2,3),\n",
    "      highpassRadius = (2,5),\n",
    "      rescaleReflec = 1500,\n",
    "      rescaleRadius = .02,\n",
    "      rescaleThickness = .133\n",
    "  )\n",
    "\n",
    "  ####################################################\n",
    "  log('Get left forearm image')\n",
    "  ####################################################\n",
    "  leftForearmImg = getSegmentImage(\n",
    "      threshold = .00001,\n",
    "      dat = data,\n",
    "      segment = leftForearm,\n",
    "      tLen = 50,\n",
    "      rLen = 35,\n",
    "      rRange = (0.2,3),\n",
    "      highpassRadius = (2,5),\n",
    "      rescaleReflec = 1500,\n",
    "      rescaleRadius = .02,\n",
    "      rescaleThickness = .133\n",
    "  )\n",
    "  leftForearmImg = np.flipud(leftForearmImg)\n",
    "\n",
    "  ####################################################\n",
    "  log('Combine images')\n",
    "  ####################################################\n",
    "  trunkResized = resize(trunkImg, (360,256), mode='edge')\n",
    "  rightLegResized = resize(rightLegImg, (180,256), mode='edge')\n",
    "  leftLegResized = resize(leftLegImg, (180,256), mode='edge')\n",
    "  rightBicepResized = resize(rightBicepImg, (90,128), mode='edge')\n",
    "  leftBicepResized = resize(leftBicepImg, (90,128), mode='edge')\n",
    "  rightForearmResized = resize(rightForearmImg, (70,128), mode='edge')\n",
    "  leftForearmResized = resize(leftForearmImg, (70,128), mode='edge')\n",
    "\n",
    "  forearmEmpty = np.full(shape=(20,128,3), fill_value=.5)\n",
    "  rightForearmResized = np.concatenate([rightForearmResized, forearmEmpty], axis=0)\n",
    "  leftForearmResized = np.concatenate([leftForearmResized, forearmEmpty], axis=0)\n",
    "\n",
    "  rightArm = np.concatenate([rightBicepResized, rightForearmResized], axis=1)\n",
    "  leftArm = np.concatenate([leftBicepResized, leftForearmResized], axis=1)\n",
    "\n",
    "  bodyImg = np.concatenate([\n",
    "      trunkResized,\n",
    "      rightLegResized,\n",
    "      leftLegResized,\n",
    "      rightArm,\n",
    "      leftArm\n",
    "      ], axis=0)\n",
    "\n",
    "  ####################################################\n",
    "  log('Save image')\n",
    "  ####################################################\n",
    "  base = inputFile.split('/')[-1]\n",
    "  base = base.split('.')[-2]\n",
    "  outputFile = outputDir[6:] + base + '.png'\n",
    "  imsave(outputFile, bodyImg)"
   ]
  },
  {
   "cell_type": "markdown",
   "metadata": {},
   "source": [
    "# Function to process a folder of scans"
   ]
  },
  {
   "cell_type": "code",
   "execution_count": null,
   "metadata": {
    "collapsed": false
   },
   "outputs": [],
   "source": [
    "def processFolder(inputFolder, outputFolder, startFileNum=0):\n",
    "\n",
    "  inputFiles = filenames(inputFolder)\n",
    "\n",
    "  for fileNum in range(startFileNum, len(inputFiles)):\n",
    "      \n",
    "      # Print file number (don't just freeze for hours)\n",
    "      print(str(datetime.datetime.now()) + \"    Processing file \" + str(fileNum) + \" of \" + str(len(inputFiles)))\n",
    "\n",
    "      try:\n",
    "        processScan(inputFiles[fileNum], outputFolder)\n",
    "\n",
    "      except Exception as exc:\n",
    "          errorStr = 'Error: ' + str(exc)\n",
    "          log(errorStr)\n",
    "          print(errorStr)\n",
    "          break\n",
    "\n",
    "  log(\"Finished\")\n",
    "  print(str(datetime.datetime.now()) + \"    Finished\")"
   ]
  },
  {
   "cell_type": "markdown",
   "metadata": {},
   "source": [
    "# Process scans"
   ]
  },
  {
   "cell_type": "markdown",
   "metadata": {},
   "source": [
    "Manually clear all output now so that autosave doesn't waste CPU cycles.  I didn't find a way to do this in code."
   ]
  },
  {
   "cell_type": "code",
   "execution_count": null,
   "metadata": {
    "collapsed": true
   },
   "outputs": [],
   "source": [
    "# Process stage 1 scans\n",
    "# Takes about 15 hours\n",
    "processFolder(scanDir1, embeddedDir1, 0)"
   ]
  },
  {
   "cell_type": "code",
   "execution_count": null,
   "metadata": {
    "collapsed": true
   },
   "outputs": [],
   "source": [
    "# Process stage 2 scans\n",
    "# Takes about 15 hours\n",
    "processFolder(scanDir2, embeddedDir2, 0)"
   ]
  },
  {
   "cell_type": "markdown",
   "metadata": {},
   "source": [
    "# Do we have them all?"
   ]
  },
  {
   "cell_type": "code",
   "execution_count": null,
   "metadata": {
    "collapsed": false
   },
   "outputs": [],
   "source": [
    "inputFiles = filenames(scanDir1)"
   ]
  },
  {
   "cell_type": "code",
   "execution_count": null,
   "metadata": {
    "collapsed": false
   },
   "outputs": [],
   "source": [
    "inputFiles = set([x[17:-4] for x in inputFiles])"
   ]
  },
  {
   "cell_type": "code",
   "execution_count": null,
   "metadata": {
    "collapsed": false
   },
   "outputs": [],
   "source": [
    "outputFiles = filenames(embeddedDir1)"
   ]
  },
  {
   "cell_type": "code",
   "execution_count": null,
   "metadata": {
    "collapsed": false
   },
   "outputs": [],
   "source": [
    "outputFiles = set([x[24:-4] for x in outputFiles if x[-3:] == 'png'])"
   ]
  },
  {
   "cell_type": "code",
   "execution_count": null,
   "metadata": {
    "collapsed": false
   },
   "outputs": [],
   "source": [
    "print(\"length: \", len(outputFiles), len(inputFiles))\n",
    "print(\"same length?  \", len(outputFiles)==len(inputFiles))\n",
    "print(\"difference:  \", outputFiles.symmetric_difference(inputFiles))"
   ]
  },
  {
   "cell_type": "markdown",
   "metadata": {},
   "source": [
    "# Compare scans and embeddings"
   ]
  },
  {
   "cell_type": "code",
   "execution_count": null,
   "metadata": {
    "collapsed": false
   },
   "outputs": [],
   "source": [
    "inputFile = filenames(scanDir1)[100]"
   ]
  },
  {
   "cell_type": "code",
   "execution_count": null,
   "metadata": {
    "collapsed": false
   },
   "outputs": [],
   "source": [
    "# Load scan\n",
    "data = loadFile(inputFile)\n",
    "thresholded = np.clip(data, threshold3D, 100000) - threshold3D\n",
    "\n",
    "# Plot scan\n",
    "fig, ax = plt.subplots(3, figsize=(30,30))\n",
    "for i in range(3):\n",
    "    ax[i].imshow(np.mean(thresholded, axis=i), cmap = 'viridis', interpolation = 'nearest')"
   ]
  },
  {
   "cell_type": "code",
   "execution_count": null,
   "metadata": {
    "collapsed": false
   },
   "outputs": [],
   "source": [
    "# Load embedding\n",
    "png = loadFile(embeddedDir1 + inputFile[17:-4] + '.png')\n",
    "\n",
    "# Plot embedding\n",
    "fig, ax = plt.subplots(1, figsize=(30,30))\n",
    "ax.imshow(png)"
   ]
  }
 ],
 "metadata": {
  "kernelspec": {
   "display_name": "Python 3",
   "language": "python",
   "name": "python3"
  },
  "language_info": {
   "codemirror_mode": {
    "name": "ipython",
    "version": 3
   },
   "file_extension": ".py",
   "mimetype": "text/x-python",
   "name": "python",
   "nbconvert_exporter": "python",
   "pygments_lexer": "ipython3",
   "version": "3.5.2"
  }
 },
 "nbformat": 4,
 "nbformat_minor": 1
}
